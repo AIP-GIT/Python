{
 "cells": [
  {
   "cell_type": "markdown",
   "id": "f9a37108-f87d-49e3-a3f6-0b4bac022395",
   "metadata": {},
   "source": [
    "## Multiprocessing"
   ]
  },
  {
   "cell_type": "code",
   "execution_count": 9,
   "id": "d770c7d2-7d89-4515-9e6c-e69cb7f9486f",
   "metadata": {},
   "outputs": [
    {
     "name": "stdout",
     "output_type": "stream",
     "text": [
      "Finished!\n"
     ]
    },
    {
     "name": "stderr",
     "output_type": "stream",
     "text": [
      "Traceback (most recent call last):\n",
      "  File \"<string>\", line 1, in <module>\n",
      "  File \"/Users/amit.kumar/miniconda3/envs/poc/lib/python3.10/multiprocessing/spawn.py\", line 116, in spawn_main\n",
      "    exitcode = _main(fd, parent_sentinel)\n",
      "  File \"/Users/amit.kumar/miniconda3/envs/poc/lib/python3.10/multiprocessing/spawn.py\", line 126, in _main\n",
      "    self = reduction.pickle.load(from_parent)\n",
      "AttributeError: Can't get attribute 'calculate_square' on <module '__main__' (built-in)>\n"
     ]
    }
   ],
   "source": [
    "import multiprocessing\n",
    "\n",
    "def calculate_square(numbers):\n",
    "    for n in numbers:\n",
    "        print('Square:', n * n)\n",
    "\n",
    "if __name__ == '__main__':\n",
    "    numbers = [1, 2, 3, 4, 5]\n",
    "    p = multiprocessing.Process(target=calculate_square, args=(numbers,))\n",
    "\n",
    "    # Starting the process\n",
    "    p.start()\n",
    "\n",
    "    # Ensuring the process finishes before the script\n",
    "    p.join()\n",
    "\n",
    "    print(\"Finished!\")"
   ]
  },
  {
   "cell_type": "code",
   "execution_count": null,
   "id": "578fa0c7-10a6-4c88-8424-4da5a88499c6",
   "metadata": {},
   "outputs": [],
   "source": [
    "import multiprocessing\n",
    "import time\n",
    "import os\n",
    "\n",
    "def calculate_square(numbers):\n",
    "    for n in numbers:\n",
    "        print(f'Square of {n} is {n*n}, Process ID: {os.getpid()}')  # Print the Process ID\n",
    "        time.sleep(0.5)  # Simulate a task that takes some time\n",
    "\n",
    "if __name__ == '__main__':\n",
    "    numbers = [1, 2, 3, 4, 5]\n",
    "\n",
    "    start_time = time.time()  # Start timing\n",
    "\n",
    "    processes = []\n",
    "    for _ in range(5):  # Create 5 processes\n",
    "        p = multiprocessing.Process(target=calculate_square, args=([numbers[_]],))\n",
    "        processes.append(p)\n",
    "        p.start()\n",
    "\n",
    "    for p in processes:\n",
    "        p.join()  # Wait for all processes to complete\n",
    "\n",
    "    end_time = time.time()  # End timing\n",
    "\n",
    "    print(f\"Time taken: {end_time - start_time} seconds\")\n"
   ]
  }
 ],
 "metadata": {
  "kernelspec": {
   "display_name": "Python 3 (ipykernel)",
   "language": "python",
   "name": "python3"
  },
  "language_info": {
   "codemirror_mode": {
    "name": "ipython",
    "version": 3
   },
   "file_extension": ".py",
   "mimetype": "text/x-python",
   "name": "python",
   "nbconvert_exporter": "python",
   "pygments_lexer": "ipython3",
   "version": "3.10.13"
  }
 },
 "nbformat": 4,
 "nbformat_minor": 5
}
