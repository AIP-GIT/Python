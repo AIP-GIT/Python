{
 "cells": [
  {
   "cell_type": "code",
   "execution_count": 1,
   "id": "26868251-f4d7-4bbc-99a4-8190a3e70016",
   "metadata": {},
   "outputs": [],
   "source": [
    "# !pip install pymp-pypi "
   ]
  },
  {
   "cell_type": "code",
   "execution_count": 10,
   "id": "54dcc95c-6106-4be8-835f-f795006dc4bb",
   "metadata": {},
   "outputs": [
    {
     "name": "stdout",
     "output_type": "stream",
     "text": [
      "[  0   1   4   9  16  25  36  49  64  81 100 121 144   0   0   0   0   0\n",
      "   0   0   0   0   0   0   0   0   0   0   0   0   0   0   0   0   0   0\n",
      "   0   0   0   0   0   0   0   0   0   0   0   0   0   0   0   0   0   0\n",
      "   0   0   0   0   0   0   0   0   0   0   0   0   0   0   0   0   0   0\n",
      "   0   0   0   0   0   0   0   0   0   0   0   0   0   0   0   0   0   0\n",
      "   0   0   0   0   0   0   0   0   0   0]\n"
     ]
    }
   ],
   "source": [
    "import pymp\n",
    "\n",
    "# Create a shared array that will store the squares\n",
    "with pymp.Parallel() as p:\n",
    "    squares = pymp.shared.array((100,), dtype='int')\n",
    "    for index in p.range(0, 100):\n",
    "        # print(f\"Thread {p.thread_num} processing {index}\")\n",
    "        squares[index] = index * index\n",
    "\n",
    "print(squares)\n"
   ]
  },
  {
   "cell_type": "code",
   "execution_count": 11,
   "id": "f8867133-50b0-43bf-bff2-8d51a202844c",
   "metadata": {},
   "outputs": [
    {
     "data": {
      "text/plain": [
       "100"
      ]
     },
     "execution_count": 11,
     "metadata": {},
     "output_type": "execute_result"
    }
   ],
   "source": [
    "len(squares)"
   ]
  },
  {
   "cell_type": "code",
   "execution_count": 16,
   "id": "42174ab5-1cad-4280-97c4-a346c1be1501",
   "metadata": {},
   "outputs": [
    {
     "name": "stdout",
     "output_type": "stream",
     "text": [
      "[0, 1, 4, 9, 16, 25, 36, 49, 64, 81, 100, 121, 144]\n"
     ]
    }
   ],
   "source": [
    "import pymp\n",
    "\n",
    "# Shared list\n",
    "with pymp.Parallel() as p:\n",
    "    shared_list = pymp.shared.list()\n",
    "\n",
    "    for index in p.range(100):\n",
    "        try:\n",
    "            # print(f\"Thread {p.thread_num} processing {index}\")\n",
    "            shared_list.append(index * index)\n",
    "        except:\n",
    "            print(\"Error\")\n",
    "\n",
    "print(shared_list)\n"
   ]
  },
  {
   "cell_type": "code",
   "execution_count": 13,
   "id": "965a9383-72aa-4cde-8b62-44d925a344ff",
   "metadata": {},
   "outputs": [
    {
     "data": {
      "text/plain": [
       "13"
      ]
     },
     "execution_count": 13,
     "metadata": {},
     "output_type": "execute_result"
    }
   ],
   "source": [
    "len(shared_list)"
   ]
  },
  {
   "cell_type": "code",
   "execution_count": 5,
   "id": "f1ad1cc3-c837-4d7b-b680-73bf8668f515",
   "metadata": {},
   "outputs": [
    {
     "name": "stdout",
     "output_type": "stream",
     "text": [
      "78\n"
     ]
    }
   ],
   "source": [
    "import pymp\n",
    "\n",
    "with pymp.Parallel() as p:\n",
    "    local_sum = pymp.shared.array((p.num_threads,), dtype='int')\n",
    "    for index in p.range(0, 100):\n",
    "        \n",
    "        local_sum[p.thread_num] += index\n",
    "\n",
    "total_sum = sum(local_sum)\n",
    "print(total_sum)"
   ]
  },
  {
   "cell_type": "code",
   "execution_count": 6,
   "id": "1a3600b1-827e-4958-93ab-4494e3b8f55c",
   "metadata": {},
   "outputs": [
    {
     "name": "stdout",
     "output_type": "stream",
     "text": [
      "[1.         4.05673284 7.93713346 ... 0.         0.         0.        ]\n"
     ]
    }
   ],
   "source": [
    "import pymp\n",
    "import math\n",
    "\n",
    "def complex_operation(input_data):\n",
    "    result = math.sqrt(input_data) ** 3.5 + math.log(input_data)\n",
    "    return result\n",
    "\n",
    "input_data = range(1, 10000)  # Some large range of data\n",
    "\n",
    "with pymp.Parallel() as p:\n",
    "    results = pymp.shared.array(len(input_data))\n",
    "    for index in p.range(len(input_data)):\n",
    "        results[index] = complex_operation(input_data[index])\n",
    "\n",
    "print(results)\n"
   ]
  },
  {
   "cell_type": "code",
   "execution_count": null,
   "id": "190cb897-06da-4272-8495-65e1e1ff6e48",
   "metadata": {},
   "outputs": [],
   "source": [
    "import threading\n",
    "from sklearn.datasets import load_iris\n",
    "import numpy as np\n",
    "\n",
    "# Load the dataset\n",
    "data = load_iris()\n",
    "X, y = data.data, data.target\n",
    "\n",
    "# Define a function to calculate the mean for each species\n",
    "def calculate_mean(start, end, species_id, results):\n",
    "    species_data = X[y == species_id]\n",
    "    results[species_id] = np.mean(species_data[start:end], axis=0)\n",
    "\n",
    "# Create threads\n",
    "results_threading = [None, None, None]\n",
    "threads = []\n",
    "for i in range(3):\n",
    "    t = threading.Thread(target=calculate_mean, args=(0, 50, i, results_threading))\n",
    "    threads.append(t)\n",
    "    t.start()\n",
    "\n",
    "# Wait for all threads to complete\n",
    "for t in threads:\n",
    "    t.join()\n",
    "\n",
    "print(\"Threading results:\", results_threading)\n"
   ]
  },
  {
   "cell_type": "code",
   "execution_count": null,
   "id": "e8a0b5c4",
   "metadata": {},
   "outputs": [],
   "source": [
    "import multiprocessing\n",
    "from sklearn.datasets import load_iris\n",
    "import numpy as np\n",
    "\n",
    "# Load the dataset\n",
    "data = load_iris()\n",
    "X, y = data.data, data.target\n",
    "\n",
    "# Define the worker function\n",
    "def calculate_mean(start, end, species_id, return_dict):\n",
    "    species_data = X[y == species_id]\n",
    "    return_dict[species_id] = np.mean(species_data[start:end], axis=0)\n",
    "\n",
    "# Create a multiprocessing manager and a dictionary to store the results\n",
    "manager = multiprocessing.Manager()\n",
    "return_dict = manager.dict()\n",
    "\n",
    "# Create and start processes\n",
    "processes = []\n",
    "for i in range(3):\n",
    "    p = multiprocessing.Process(target=calculate_mean, args=(0, 50, i, return_dict))\n",
    "    processes.append(p)\n",
    "    p.start()\n",
    "\n",
    "# Wait for all processes to complete\n",
    "for p in processes:\n",
    "    p.join()\n",
    "\n",
    "print(\"Multiprocessing results:\", dict(return_dict))\n"
   ]
  },
  {
   "cell_type": "code",
   "execution_count": null,
   "id": "7d2322e2",
   "metadata": {},
   "outputs": [],
   "source": [
    "import pymp\n",
    "from sklearn.datasets import load_iris\n",
    "import numpy as np\n",
    "\n",
    "# Load the dataset\n",
    "data = load_iris()\n",
    "X, y = data.data, data.target\n",
    "\n",
    "# Prepare a shared array to store the results\n",
    "results_pymp = pymp.shared.array((3, 4), dtype=np.float64)\n",
    "\n",
    "# Parallel block\n",
    "with pymp.Parallel(3) as p:\n",
    "    for i in p.range(3):\n",
    "        species_data = X[y == i]\n",
    "        results_pymp[i] = np.mean(species_data, axis=0)\n",
    "\n",
    "print(\"PyMP results:\", results_pymp)\n"
   ]
  },
  {
   "cell_type": "code",
   "execution_count": null,
   "id": "4e319a15",
   "metadata": {},
   "outputs": [],
   "source": [
    "from sklearn.datasets import load_iris\n",
    "from sklearn.model_selection import KFold\n",
    "from sklearn.svm import SVC\n",
    "import numpy as np\n",
    "import multiprocessing\n",
    "\n",
    "# Load the dataset\n",
    "data = load_iris()\n",
    "X, y = data.data, data.target\n",
    "\n",
    "# Define the worker function\n",
    "def train_fold(fold_data):\n",
    "    train_index, test_index = fold_data\n",
    "    X_train, X_test = X[train_index], X[test_index]\n",
    "    y_train, y_test = y[train_index], y[test_index]\n",
    "    model = SVC()\n",
    "    model.fit(X_train, y_train)\n",
    "    score = model.score(X_test, y_test)\n",
    "    return score\n",
    "\n",
    "# Prepare the folds\n",
    "kf = KFold(n_splits=5)\n",
    "folds = list(kf.split(X))\n",
    "\n",
    "# Create a pool of workers and map the training function to the folds\n",
    "pool = multiprocessing.Pool(processes=4)\n",
    "scores = pool.map(train_fold, folds)\n",
    "\n",
    "# Calculate the average score\n",
    "average_score = np.mean(scores)\n",
    "print(\"Average Cross-Validation Score:\", average_score)\n"
   ]
  }
 ],
 "metadata": {
  "kernelspec": {
   "display_name": "Python 3 (ipykernel)",
   "language": "python",
   "name": "python3"
  },
  "language_info": {
   "codemirror_mode": {
    "name": "ipython",
    "version": 3
   },
   "file_extension": ".py",
   "mimetype": "text/x-python",
   "name": "python",
   "nbconvert_exporter": "python",
   "pygments_lexer": "ipython3",
   "version": "3.10.13"
  }
 },
 "nbformat": 4,
 "nbformat_minor": 5
}
