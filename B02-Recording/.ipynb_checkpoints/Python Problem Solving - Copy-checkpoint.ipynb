{
 "cells": [
  {
   "cell_type": "markdown",
   "id": "comparative-satellite",
   "metadata": {
    "heading_collapsed": true
   },
   "source": [
    "### Variable Data Types & Operators"
   ]
  },
  {
   "cell_type": "code",
   "execution_count": null,
   "id": "alive-healthcare",
   "metadata": {
    "hidden": true
   },
   "outputs": [],
   "source": [
    "my_name = 'Amit'\n",
    "x = 1\n",
    "\n",
    "y = 10.0"
   ]
  },
  {
   "cell_type": "code",
   "execution_count": null,
   "id": "registered-equilibrium",
   "metadata": {
    "hidden": true
   },
   "outputs": [],
   "source": [
    "print(my_name)"
   ]
  },
  {
   "cell_type": "code",
   "execution_count": null,
   "id": "prescribed-treaty",
   "metadata": {
    "hidden": true
   },
   "outputs": [],
   "source": [
    "type(my_name)"
   ]
  },
  {
   "cell_type": "code",
   "execution_count": null,
   "id": "precise-blues",
   "metadata": {
    "hidden": true
   },
   "outputs": [],
   "source": [
    "type(y)"
   ]
  },
  {
   "cell_type": "markdown",
   "id": "systematic-amber",
   "metadata": {
    "hidden": true
   },
   "source": [
    "#### Boolean"
   ]
  },
  {
   "cell_type": "code",
   "execution_count": null,
   "id": "thick-display",
   "metadata": {
    "hidden": true
   },
   "outputs": [],
   "source": [
    "a = True\n",
    "b = False"
   ]
  },
  {
   "cell_type": "code",
   "execution_count": null,
   "id": "younger-journey",
   "metadata": {
    "hidden": true
   },
   "outputs": [],
   "source": [
    "type(a)"
   ]
  },
  {
   "cell_type": "markdown",
   "id": "radio-northeast",
   "metadata": {
    "hidden": true
   },
   "source": [
    "#### Comparison"
   ]
  },
  {
   "cell_type": "code",
   "execution_count": null,
   "id": "certified-belief",
   "metadata": {
    "hidden": true
   },
   "outputs": [],
   "source": [
    "a == b"
   ]
  },
  {
   "cell_type": "code",
   "execution_count": null,
   "id": "vertical-filling",
   "metadata": {
    "hidden": true
   },
   "outputs": [],
   "source": [
    "a != b"
   ]
  },
  {
   "cell_type": "code",
   "execution_count": null,
   "id": "foreign-collectible",
   "metadata": {
    "hidden": true
   },
   "outputs": [],
   "source": [
    "a == 1  # a is True"
   ]
  },
  {
   "cell_type": "code",
   "execution_count": null,
   "id": "modified-works",
   "metadata": {
    "hidden": true
   },
   "outputs": [],
   "source": [
    "b == 0  # b is False"
   ]
  },
  {
   "cell_type": "code",
   "execution_count": null,
   "id": "cheap-pavilion",
   "metadata": {
    "hidden": true
   },
   "outputs": [],
   "source": [
    "1 < 2  # also, 2 > 1"
   ]
  },
  {
   "cell_type": "code",
   "execution_count": null,
   "id": "determined-italic",
   "metadata": {
    "hidden": true
   },
   "outputs": [],
   "source": [
    "1 <= 2  # also, 2 >= 1"
   ]
  },
  {
   "cell_type": "code",
   "execution_count": null,
   "id": "herbal-cylinder",
   "metadata": {
    "hidden": true
   },
   "outputs": [],
   "source": [
    "1 < 2 and 2 < 3"
   ]
  },
  {
   "cell_type": "code",
   "execution_count": null,
   "id": "retired-recovery",
   "metadata": {
    "hidden": true
   },
   "outputs": [],
   "source": [
    "1 < 2 < 3"
   ]
  },
  {
   "cell_type": "markdown",
   "id": "approximate-finder",
   "metadata": {
    "heading_collapsed": true,
    "hidden": true
   },
   "source": [
    "#### Numeric"
   ]
  },
  {
   "cell_type": "code",
   "execution_count": null,
   "id": "activated-remark",
   "metadata": {
    "hidden": true
   },
   "outputs": [],
   "source": [
    "x = 2  # int\n",
    "y = 5.0  # float"
   ]
  },
  {
   "cell_type": "code",
   "execution_count": null,
   "id": "hungry-silence",
   "metadata": {
    "hidden": true
   },
   "outputs": [],
   "source": [
    "type(x)"
   ]
  },
  {
   "cell_type": "code",
   "execution_count": null,
   "id": "liquid-muslim",
   "metadata": {
    "hidden": true
   },
   "outputs": [],
   "source": [
    "type(y)"
   ]
  },
  {
   "cell_type": "code",
   "execution_count": null,
   "id": "educated-artwork",
   "metadata": {
    "hidden": true
   },
   "outputs": [],
   "source": [
    "x + y"
   ]
  },
  {
   "cell_type": "code",
   "execution_count": null,
   "id": "future-stage",
   "metadata": {
    "hidden": true
   },
   "outputs": [],
   "source": [
    "x * y"
   ]
  },
  {
   "cell_type": "markdown",
   "id": "metric-portland",
   "metadata": {
    "heading_collapsed": true,
    "hidden": true
   },
   "source": [
    "#### String"
   ]
  },
  {
   "cell_type": "code",
   "execution_count": null,
   "id": "smart-audience",
   "metadata": {
    "hidden": true
   },
   "outputs": [],
   "source": [
    "print(\"\"\"'pyt\"hon'\"\"\")"
   ]
  },
  {
   "cell_type": "code",
   "execution_count": null,
   "id": "martial-designer",
   "metadata": {
    "hidden": true
   },
   "outputs": [],
   "source": [
    "language1 = 'Python'\n",
    "language2 = \"Python\"\n",
    "language3 = '''Python'''  # multi-line\n",
    "language4 = \"\"\"Python\"\"\"  # multi-line"
   ]
  },
  {
   "cell_type": "code",
   "execution_count": null,
   "id": "capital-morocco",
   "metadata": {
    "hidden": true
   },
   "outputs": [],
   "source": [
    "language1 == language2 == language3 == language4"
   ]
  },
  {
   "cell_type": "code",
   "execution_count": null,
   "id": "dense-hebrew",
   "metadata": {
    "hidden": true
   },
   "outputs": [],
   "source": [
    "py_version = \"3.6\"\n",
    "\n",
    "language = \"Python {}\".format(py_version)\n",
    "language"
   ]
  },
  {
   "cell_type": "code",
   "execution_count": null,
   "id": "meaning-denial",
   "metadata": {
    "hidden": true
   },
   "outputs": [],
   "source": [
    "type(language)"
   ]
  },
  {
   "cell_type": "code",
   "execution_count": null,
   "id": "vital-barcelona",
   "metadata": {
    "hidden": true
   },
   "outputs": [],
   "source": [
    "language[0]  # Python is zero-indexed"
   ]
  },
  {
   "cell_type": "code",
   "execution_count": null,
   "id": "willing-bronze",
   "metadata": {
    "hidden": true
   },
   "outputs": [],
   "source": [
    "language.lower()"
   ]
  },
  {
   "cell_type": "code",
   "execution_count": null,
   "id": "streaming-chase",
   "metadata": {
    "hidden": true
   },
   "outputs": [],
   "source": [
    "language.upper()"
   ]
  },
  {
   "cell_type": "code",
   "execution_count": null,
   "id": "suspended-diana",
   "metadata": {
    "hidden": true
   },
   "outputs": [],
   "source": [
    "language.replace('3.6', 'X.Y',)  # (old, new)\n",
    "#str.replace?"
   ]
  },
  {
   "cell_type": "code",
   "execution_count": null,
   "id": "decreased-gambling",
   "metadata": {
    "hidden": true
   },
   "outputs": [],
   "source": [
    "language"
   ]
  },
  {
   "cell_type": "code",
   "execution_count": null,
   "id": "official-lindsay",
   "metadata": {
    "hidden": true
   },
   "outputs": [],
   "source": []
  },
  {
   "cell_type": "markdown",
   "id": "awful-league",
   "metadata": {},
   "source": [
    "### Problem : Swap two given numbers"
   ]
  },
  {
   "cell_type": "code",
   "execution_count": 1,
   "id": "analyzed-cycling",
   "metadata": {},
   "outputs": [
    {
     "name": "stdout",
     "output_type": "stream",
     "text": [
      "Original x,y value is : 5 7\n",
      "New x,y value is : 7 5\n"
     ]
    }
   ],
   "source": [
    "x = 5\n",
    "y = 7\n",
    "print(\"Original x,y value is :\",x,y)\n",
    "temp = x\n",
    "x = y\n",
    "y=temp\n",
    "print(\"New x,y value is :\",x,y)"
   ]
  },
  {
   "cell_type": "code",
   "execution_count": 2,
   "id": "bearing-trail",
   "metadata": {},
   "outputs": [
    {
     "name": "stdout",
     "output_type": "stream",
     "text": [
      "Original x,y value is : 5 7\n",
      "New x,y value is : 7 5\n"
     ]
    }
   ],
   "source": [
    "x = 5\n",
    "y = 7\n",
    "print(\"Original x,y value is :\",x,y)\n",
    "x = x+y\n",
    "y = x-y\n",
    "x = x-y\n",
    "print(\"New x,y value is :\",x,y)"
   ]
  },
  {
   "cell_type": "code",
   "execution_count": 3,
   "id": "faced-bangkok",
   "metadata": {},
   "outputs": [
    {
     "name": "stdout",
     "output_type": "stream",
     "text": [
      "Original x,y value is : 5 7\n",
      "New x,y value is : 7 5\n"
     ]
    }
   ],
   "source": [
    "x = 5\n",
    "y = 7\n",
    "print(\"Original x,y value is :\",x,y)\n",
    "x,y = y,x \n",
    "print(\"New x,y value is :\",x,y)"
   ]
  },
  {
   "cell_type": "markdown",
   "id": "roman-melbourne",
   "metadata": {
    "heading_collapsed": true
   },
   "source": [
    "### Circle problem"
   ]
  },
  {
   "cell_type": "code",
   "execution_count": null,
   "id": "sunset-health",
   "metadata": {
    "hidden": true
   },
   "outputs": [],
   "source": []
  },
  {
   "cell_type": "markdown",
   "id": "productive-david",
   "metadata": {
    "heading_collapsed": true
   },
   "source": [
    "### Control Flow"
   ]
  },
  {
   "cell_type": "code",
   "execution_count": null,
   "id": "enormous-payday",
   "metadata": {
    "hidden": true
   },
   "outputs": [],
   "source": [
    "a = 10\n",
    "b = 0\n",
    "\n",
    "if a > 0 and b > 0:\n",
    "    print(\"Add them : \", add_them(a, b))\n",
    "elif a == 0:\n",
    "    print(\"A is zero\")"
   ]
  },
  {
   "cell_type": "code",
   "execution_count": null,
   "id": "valid-reward",
   "metadata": {
    "hidden": true
   },
   "outputs": [],
   "source": [
    "a = 10\n",
    "b = 0\n",
    "\n",
    "if a > 0 and b > 0:\n",
    "    print(\"Add them : \", add_them(a, b))\n",
    "elif a == 0:\n",
    "    print(\"A is zero\")\n",
    "else:\n",
    "    print(\"Nothing to see\")"
   ]
  },
  {
   "cell_type": "markdown",
   "id": "opposed-corps",
   "metadata": {
    "hidden": true
   },
   "source": [
    "#### Write a program to Check if a Number is Odd or Even"
   ]
  },
  {
   "cell_type": "code",
   "execution_count": null,
   "id": "prerequisite-school",
   "metadata": {
    "hidden": true
   },
   "outputs": [],
   "source": []
  },
  {
   "cell_type": "markdown",
   "id": "entire-notebook",
   "metadata": {},
   "source": [
    "### Basic Programming Loops"
   ]
  },
  {
   "cell_type": "markdown",
   "id": "sized-driving",
   "metadata": {},
   "source": [
    "#### for - print \"hello world\" 10 times"
   ]
  },
  {
   "cell_type": "code",
   "execution_count": null,
   "id": "superior-vampire",
   "metadata": {},
   "outputs": [],
   "source": []
  },
  {
   "cell_type": "markdown",
   "id": "mature-government",
   "metadata": {},
   "source": [
    "#### while - calculating score of batsman until is out"
   ]
  },
  {
   "cell_type": "code",
   "execution_count": null,
   "id": "commercial-nursery",
   "metadata": {},
   "outputs": [],
   "source": []
  },
  {
   "cell_type": "markdown",
   "id": "corporate-faith",
   "metadata": {},
   "source": [
    "#### do-while - login to facebook page"
   ]
  },
  {
   "cell_type": "code",
   "execution_count": null,
   "id": "absent-essence",
   "metadata": {},
   "outputs": [],
   "source": []
  },
  {
   "cell_type": "code",
   "execution_count": null,
   "id": "restricted-youth",
   "metadata": {},
   "outputs": [],
   "source": [
    "x = 5\n",
    "\n",
    "while x > 0:\n",
    "    print(x)\n",
    "    x = x - 1"
   ]
  },
  {
   "cell_type": "code",
   "execution_count": null,
   "id": "acquired-spectacular",
   "metadata": {},
   "outputs": [],
   "source": [
    "for x in [1, 2, 3]:\n",
    "    print(x)"
   ]
  },
  {
   "cell_type": "code",
   "execution_count": null,
   "id": "contained-curtis",
   "metadata": {},
   "outputs": [],
   "source": [
    "for x in (1, 2, 3):\n",
    "    print(x)"
   ]
  },
  {
   "cell_type": "code",
   "execution_count": null,
   "id": "pharmaceutical-database",
   "metadata": {},
   "outputs": [],
   "source": [
    "my_string = \"HELLO\"\n",
    "\n",
    "for letter in my_string:\n",
    "    print(letter)"
   ]
  },
  {
   "cell_type": "markdown",
   "id": "adjustable-exchange",
   "metadata": {},
   "source": [
    "### Loop - Control statement"
   ]
  },
  {
   "cell_type": "code",
   "execution_count": null,
   "id": "adjusted-drain",
   "metadata": {},
   "outputs": [],
   "source": [
    "for i in range(5):\n",
    "    print(i,\"Hello india\")\n",
    "    print(i,\"Hello world\")"
   ]
  },
  {
   "cell_type": "code",
   "execution_count": null,
   "id": "metropolitan-company",
   "metadata": {},
   "outputs": [],
   "source": [
    "for i in range(5):\n",
    "    print(i,\"Hello india\")\n",
    "    if(i>3):\n",
    "        break\n",
    "    print(i,\"Hello world\")"
   ]
  },
  {
   "cell_type": "code",
   "execution_count": null,
   "id": "therapeutic-concentration",
   "metadata": {},
   "outputs": [],
   "source": [
    "for i in range(5):\n",
    "    print(i,\"Hello india\")\n",
    "    if(i>3):\n",
    "        continue\n",
    "    print(i,\"Hello world\")"
   ]
  },
  {
   "cell_type": "code",
   "execution_count": null,
   "id": "provincial-missouri",
   "metadata": {},
   "outputs": [],
   "source": [
    "for i in range(5):\n",
    "    print(i,\"Hello india\")\n",
    "    if(i>3):\n",
    "        pass\n",
    "    print(i,\"Hello world\")"
   ]
  },
  {
   "cell_type": "markdown",
   "id": "prepared-railway",
   "metadata": {},
   "source": [
    "### Sequences: lists and tuples and str"
   ]
  },
  {
   "cell_type": "code",
   "execution_count": null,
   "id": "formed-blackberry",
   "metadata": {},
   "outputs": [],
   "source": [
    "my_list = ['red', 'green', 'blue']\n",
    "\n",
    "my_tuple = ('Amit', 'UK', True)"
   ]
  },
  {
   "cell_type": "code",
   "execution_count": null,
   "id": "returning-christopher",
   "metadata": {},
   "outputs": [],
   "source": [
    "type(my_list)"
   ]
  },
  {
   "cell_type": "code",
   "execution_count": null,
   "id": "asian-custom",
   "metadata": {},
   "outputs": [],
   "source": [
    "type(my_tuple)"
   ]
  },
  {
   "cell_type": "code",
   "execution_count": null,
   "id": "infrared-profession",
   "metadata": {},
   "outputs": [],
   "source": [
    "'red' in my_list"
   ]
  },
  {
   "cell_type": "code",
   "execution_count": null,
   "id": "protecting-accountability",
   "metadata": {},
   "outputs": [],
   "source": [
    "'John' in my_tuple"
   ]
  },
  {
   "cell_type": "code",
   "execution_count": null,
   "id": "impressed-saver",
   "metadata": {},
   "outputs": [],
   "source": [
    "for item in my_list:\n",
    "    print(item)"
   ]
  },
  {
   "cell_type": "markdown",
   "id": "informal-fundamentals",
   "metadata": {
    "heading_collapsed": true
   },
   "source": [
    "#### Write a program to print all alphabets and whether it is a vowel or consonant"
   ]
  },
  {
   "cell_type": "code",
   "execution_count": null,
   "id": "virgin-basement",
   "metadata": {
    "hidden": true
   },
   "outputs": [],
   "source": []
  },
  {
   "cell_type": "markdown",
   "id": "female-librarian",
   "metadata": {
    "heading_collapsed": true
   },
   "source": [
    "#### slicing and striding "
   ]
  },
  {
   "cell_type": "code",
   "execution_count": null,
   "id": "promotional-hurricane",
   "metadata": {
    "hidden": true
   },
   "outputs": [],
   "source": [
    "record = ('Marco', 'UK', True, 123)  # tuple\n",
    "colours = ['blue', 'red', 'green']  # list"
   ]
  },
  {
   "cell_type": "code",
   "execution_count": null,
   "id": "affected-sample",
   "metadata": {
    "hidden": true
   },
   "outputs": [],
   "source": [
    "for item in record:\n",
    "    print(item)"
   ]
  },
  {
   "cell_type": "code",
   "execution_count": null,
   "id": "extensive-donna",
   "metadata": {
    "hidden": true
   },
   "outputs": [],
   "source": [
    "for item in colours:\n",
    "    print(item)"
   ]
  },
  {
   "cell_type": "code",
   "execution_count": null,
   "id": "disabled-chain",
   "metadata": {
    "hidden": true
   },
   "outputs": [],
   "source": [
    "['blue', 'blue', 'red'] == ['red', 'blue', 'blue']  # order matters!"
   ]
  },
  {
   "cell_type": "code",
   "execution_count": null,
   "id": "younger-rebound",
   "metadata": {
    "hidden": true
   },
   "outputs": [],
   "source": [
    "record[0]  # Python is zero-indexed"
   ]
  },
  {
   "cell_type": "code",
   "execution_count": null,
   "id": "presidential-teens",
   "metadata": {
    "hidden": true
   },
   "outputs": [],
   "source": [
    "colours[2]  # get the Nth item"
   ]
  },
  {
   "cell_type": "code",
   "execution_count": null,
   "id": "bright-marine",
   "metadata": {
    "hidden": true
   },
   "outputs": [],
   "source": [
    "colours[-1]  # get the last item"
   ]
  },
  {
   "cell_type": "code",
   "execution_count": null,
   "id": "computational-robert",
   "metadata": {
    "hidden": true
   },
   "outputs": [],
   "source": [
    "colours = ['blue', 'red', 'green', 'black', 'white']"
   ]
  },
  {
   "cell_type": "code",
   "execution_count": null,
   "id": "royal-fraction",
   "metadata": {
    "hidden": true
   },
   "outputs": [],
   "source": [
    "colours[0:2]"
   ]
  },
  {
   "cell_type": "code",
   "execution_count": null,
   "id": "synthetic-receptor",
   "metadata": {
    "hidden": true
   },
   "outputs": [],
   "source": [
    "colours[3:4]"
   ]
  },
  {
   "cell_type": "code",
   "execution_count": null,
   "id": "quarterly-bracket",
   "metadata": {
    "hidden": true
   },
   "outputs": [],
   "source": [
    "colours[:3]"
   ]
  },
  {
   "cell_type": "code",
   "execution_count": null,
   "id": "disabled-species",
   "metadata": {
    "hidden": true
   },
   "outputs": [],
   "source": [
    "colours[:-1]"
   ]
  },
  {
   "cell_type": "code",
   "execution_count": null,
   "id": "patient-wednesday",
   "metadata": {
    "hidden": true
   },
   "outputs": [],
   "source": []
  },
  {
   "cell_type": "markdown",
   "id": "thirty-vanilla",
   "metadata": {
    "heading_collapsed": true
   },
   "source": [
    "#### Mutable vs Immutable data"
   ]
  },
  {
   "cell_type": "code",
   "execution_count": null,
   "id": "improving-testament",
   "metadata": {
    "hidden": true
   },
   "outputs": [],
   "source": [
    "record[0] = 'Jane'  # tuples are immutable!"
   ]
  },
  {
   "cell_type": "code",
   "execution_count": null,
   "id": "exotic-tractor",
   "metadata": {
    "hidden": true
   },
   "outputs": [],
   "source": [
    "colours[0] = 'yellow'  # lists are mutable\n",
    "colours"
   ]
  },
  {
   "cell_type": "code",
   "execution_count": null,
   "id": "pending-spare",
   "metadata": {
    "hidden": true
   },
   "outputs": [],
   "source": [
    "colours.append('orange')\n",
    "colours"
   ]
  },
  {
   "cell_type": "code",
   "execution_count": null,
   "id": "covered-terminal",
   "metadata": {
    "hidden": true
   },
   "outputs": [],
   "source": [
    "colours.extend(['black', 'white'])\n",
    "colours"
   ]
  },
  {
   "cell_type": "code",
   "execution_count": null,
   "id": "living-knock",
   "metadata": {
    "hidden": true
   },
   "outputs": [],
   "source": [
    "colours.extend('purple')\n",
    "colours"
   ]
  },
  {
   "cell_type": "code",
   "execution_count": null,
   "id": "secure-grammar",
   "metadata": {
    "hidden": true
   },
   "outputs": [],
   "source": []
  },
  {
   "cell_type": "markdown",
   "id": "dangerous-career",
   "metadata": {},
   "source": [
    "#### Check if the string is palindrome"
   ]
  },
  {
   "cell_type": "code",
   "execution_count": null,
   "id": "local-asian",
   "metadata": {},
   "outputs": [],
   "source": [
    "# using two pointers"
   ]
  },
  {
   "cell_type": "code",
   "execution_count": null,
   "id": "cosmetic-vintage",
   "metadata": {},
   "outputs": [],
   "source": [
    "# using one pointer\n",
    "\n",
    "# using reversed function\n",
    "# striding technique"
   ]
  },
  {
   "cell_type": "code",
   "execution_count": null,
   "id": "meaningful-sequence",
   "metadata": {},
   "outputs": [],
   "source": []
  },
  {
   "cell_type": "markdown",
   "id": "prompt-prize",
   "metadata": {
    "heading_collapsed": true
   },
   "source": [
    "### Mappings: dictionaries"
   ]
  },
  {
   "cell_type": "code",
   "execution_count": null,
   "id": "level-workshop",
   "metadata": {
    "hidden": true
   },
   "outputs": [],
   "source": [
    "item = {\n",
    "    'id': 123,\n",
    "    'price': 19.90,\n",
    "    'description': 'Book',\n",
    "    'in_stock': True\n",
    "}\n",
    "\n",
    "item"
   ]
  },
  {
   "cell_type": "code",
   "execution_count": null,
   "id": "opened-toilet",
   "metadata": {
    "hidden": true
   },
   "outputs": [],
   "source": [
    "#Creating a dictionary\n",
    "student_marks = {\n",
    "    'name':'Chandra',\n",
    "    'Physics' : 98,\n",
    "    'Chemistry':76,\n",
    "    'Maths':100\n",
    "}"
   ]
  },
  {
   "cell_type": "code",
   "execution_count": null,
   "id": "deluxe-drawing",
   "metadata": {
    "hidden": true
   },
   "outputs": [],
   "source": [
    "print (student_marks['name'])\n",
    "print(student_marks['Physics'])"
   ]
  },
  {
   "cell_type": "code",
   "execution_count": null,
   "id": "brown-protection",
   "metadata": {
    "hidden": true
   },
   "outputs": [],
   "source": [
    "type(item)"
   ]
  },
  {
   "cell_type": "code",
   "execution_count": null,
   "id": "documentary-finish",
   "metadata": {
    "hidden": true
   },
   "outputs": [],
   "source": [
    "#updating the value for a given key\n",
    "item['price'] = 24.9\n",
    "\n",
    "item['price']"
   ]
  },
  {
   "cell_type": "code",
   "execution_count": null,
   "id": "acquired-string",
   "metadata": {
    "hidden": true
   },
   "outputs": [],
   "source": [
    "#deleting key value pair\n",
    "del item['in_stock']\n",
    "\n",
    "item"
   ]
  },
  {
   "cell_type": "code",
   "execution_count": null,
   "id": "following-association",
   "metadata": {
    "hidden": true
   },
   "outputs": [],
   "source": [
    "#inserting a new key-value pair\n",
    "item['available'] = True\n",
    "\n",
    "item"
   ]
  },
  {
   "cell_type": "code",
   "execution_count": null,
   "id": "another-might",
   "metadata": {
    "hidden": true
   },
   "outputs": [],
   "source": [
    "item['does_not_exist']"
   ]
  },
  {
   "cell_type": "markdown",
   "id": "certain-external",
   "metadata": {
    "hidden": true
   },
   "source": [
    "#### Exercise"
   ]
  },
  {
   "cell_type": "code",
   "execution_count": null,
   "id": "eight-secret",
   "metadata": {
    "hidden": true
   },
   "outputs": [],
   "source": [
    "# Given a list of products, print out the name of all the products with a price higher than 10\n",
    "products = [\n",
    "    {'name': 'orange', 'price': 20},\n",
    "    {'name': 'apple', 'price': 8},\n",
    "    {'name': 'banana', 'price': 10}\n",
    "]"
   ]
  },
  {
   "cell_type": "markdown",
   "id": "objective-blackjack",
   "metadata": {
    "hidden": true
   },
   "source": [
    "#### word count problem"
   ]
  },
  {
   "cell_type": "code",
   "execution_count": null,
   "id": "under-regular",
   "metadata": {
    "hidden": true
   },
   "outputs": [],
   "source": []
  },
  {
   "cell_type": "markdown",
   "id": "russian-sport",
   "metadata": {
    "heading_collapsed": true
   },
   "source": [
    "### Importance of data structures"
   ]
  },
  {
   "cell_type": "code",
   "execution_count": null,
   "id": "asian-active",
   "metadata": {
    "hidden": true
   },
   "outputs": [],
   "source": []
  },
  {
   "cell_type": "markdown",
   "id": "social-tuition",
   "metadata": {
    "hidden": true
   },
   "source": [
    "#### Discuss the problem of storing marks of students"
   ]
  },
  {
   "cell_type": "markdown",
   "id": "seasonal-frost",
   "metadata": {
    "hidden": true
   },
   "source": [
    "#### Unique IP address hit the blog"
   ]
  },
  {
   "cell_type": "markdown",
   "id": "entire-twenty",
   "metadata": {
    "heading_collapsed": true
   },
   "source": [
    "### Comprehension"
   ]
  },
  {
   "cell_type": "markdown",
   "id": "protective-fifteen",
   "metadata": {
    "hidden": true
   },
   "source": [
    "#### List comprehension"
   ]
  },
  {
   "cell_type": "code",
   "execution_count": null,
   "id": "declared-pleasure",
   "metadata": {
    "hidden": true
   },
   "outputs": [],
   "source": [
    "squares = []\n",
    "\n",
    "for x in range(100):\n",
    "    squares.append(x*x)"
   ]
  },
  {
   "cell_type": "code",
   "execution_count": null,
   "id": "separated-justice",
   "metadata": {
    "hidden": true
   },
   "outputs": [],
   "source": [
    "squares = [x*x for x in range(10)]\n",
    "squares"
   ]
  },
  {
   "cell_type": "code",
   "execution_count": null,
   "id": "reasonable-growth",
   "metadata": {
    "hidden": true
   },
   "outputs": [],
   "source": [
    "combos = []\n",
    "\n",
    "for x in [1, 2, 3]:\n",
    "    for y in [1, 2, 3]:\n",
    "        if x != y:\n",
    "            combos.append( (x, y) )\n",
    "            \n",
    "combos"
   ]
  },
  {
   "cell_type": "code",
   "execution_count": null,
   "id": "distant-pulse",
   "metadata": {
    "hidden": true
   },
   "outputs": [],
   "source": [
    "combos = [(x, y) for x in [1, 2, 3] for y in [1, 2, 3] if x != y]\n",
    "combos"
   ]
  },
  {
   "cell_type": "code",
   "execution_count": null,
   "id": "ancient-thesis",
   "metadata": {
    "hidden": true
   },
   "outputs": [],
   "source": [
    "combos = [(x, y) for x in [1, 2, 3]\n",
    "                 for y in [1, 2, 3]\n",
    "                 if x != y]\n",
    "combos"
   ]
  },
  {
   "cell_type": "code",
   "execution_count": null,
   "id": "noticed-guarantee",
   "metadata": {
    "hidden": true
   },
   "outputs": [],
   "source": [
    "distances = [10, 15, 17, 26, 20]\n",
    "times = [0.3, 0.47, 0.55, 1.20, 1.0]\n",
    "\n",
    "# Calculate speeds with Python\n",
    "speeds = []\n",
    "for i in range(len(distances)):\n",
    "    speeds.append(distances[i]/times[i])\n",
    "    \n",
    "speeds"
   ]
  },
  {
   "cell_type": "code",
   "execution_count": null,
   "id": "legal-reservation",
   "metadata": {
    "hidden": true
   },
   "outputs": [],
   "source": [
    "[d/t for d,t in zip(distances, times)]"
   ]
  },
  {
   "cell_type": "code",
   "execution_count": null,
   "id": "exotic-statistics",
   "metadata": {
    "hidden": true
   },
   "outputs": [],
   "source": [
    "product_quantities = [13, 5, 6, 10, 11]\n",
    "prices = [1.2, 6.5, 1.0, 4.8, 5.0]\n",
    "total = sum([q*p for q,p in zip(product_quantities, prices)])\n",
    "total"
   ]
  },
  {
   "cell_type": "code",
   "execution_count": null,
   "id": "naughty-athletics",
   "metadata": {
    "hidden": true
   },
   "outputs": [],
   "source": [
    "speeds = distances/times\n",
    "total = (product_quantities*prices).sum()"
   ]
  },
  {
   "cell_type": "markdown",
   "id": "thousand-contribution",
   "metadata": {
    "hidden": true
   },
   "source": [
    "#### Dictionary comprehension"
   ]
  },
  {
   "cell_type": "code",
   "execution_count": null,
   "id": "sophisticated-staff",
   "metadata": {
    "hidden": true
   },
   "outputs": [],
   "source": [
    "words = \"The quick brown fox jumped over the lazy dog\".split()\n",
    "words"
   ]
  },
  {
   "cell_type": "code",
   "execution_count": null,
   "id": "royal-satisfaction",
   "metadata": {
    "hidden": true
   },
   "outputs": [],
   "source": [
    "word_len = {}\n",
    "\n",
    "for w in words:\n",
    "    word_len[w] = len(w)\n",
    "    \n",
    "word_len"
   ]
  },
  {
   "cell_type": "code",
   "execution_count": null,
   "id": "stock-enough",
   "metadata": {
    "hidden": true
   },
   "outputs": [],
   "source": [
    "word_len = {w: len(w) for w in words}\n",
    "word_len"
   ]
  },
  {
   "cell_type": "markdown",
   "id": "freelance-opportunity",
   "metadata": {
    "hidden": true
   },
   "source": [
    "#### set comprehension"
   ]
  },
  {
   "cell_type": "code",
   "execution_count": null,
   "id": "heated-dispute",
   "metadata": {
    "hidden": true
   },
   "outputs": [],
   "source": []
  },
  {
   "cell_type": "markdown",
   "id": "innocent-greece",
   "metadata": {
    "heading_collapsed": true
   },
   "source": [
    "### Function"
   ]
  },
  {
   "cell_type": "code",
   "execution_count": null,
   "id": "particular-compact",
   "metadata": {
    "hidden": true
   },
   "outputs": [],
   "source": [
    "def add_them(a, b):\n",
    "    return a + b"
   ]
  },
  {
   "cell_type": "code",
   "execution_count": null,
   "id": "cordless-bulgarian",
   "metadata": {
    "hidden": true
   },
   "outputs": [],
   "source": [
    "add_them(10, 5)"
   ]
  },
  {
   "cell_type": "code",
   "execution_count": null,
   "id": "conventional-scheduling",
   "metadata": {
    "hidden": true
   },
   "outputs": [],
   "source": [
    "add_them('foo', 'bar')"
   ]
  },
  {
   "cell_type": "code",
   "execution_count": null,
   "id": "minor-regard",
   "metadata": {
    "hidden": true
   },
   "outputs": [],
   "source": [
    "add_them('hello', 3)"
   ]
  },
  {
   "cell_type": "markdown",
   "id": "overhead-royal",
   "metadata": {},
   "source": [
    "### Importance of dict & set for search"
   ]
  },
  {
   "cell_type": "markdown",
   "id": "given-bracelet",
   "metadata": {},
   "source": [
    "#### Scrabble - Find all the words which contains 'uu' in the word"
   ]
  },
  {
   "cell_type": "markdown",
   "id": "sacred-stylus",
   "metadata": {},
   "source": [
    "#### Scrabble - print all alphabets that never appear double"
   ]
  },
  {
   "cell_type": "markdown",
   "id": "original-federation",
   "metadata": {},
   "source": [
    "#### Scrabble - English words that contains all the vowels"
   ]
  },
  {
   "cell_type": "markdown",
   "id": "opening-diagnosis",
   "metadata": {},
   "source": [
    "#### Scrabble - Print all palindrome"
   ]
  },
  {
   "cell_type": "markdown",
   "id": "falling-turning",
   "metadata": {},
   "source": [
    "#### Scrabble - print the longest palindrome"
   ]
  },
  {
   "cell_type": "markdown",
   "id": "monetary-nickel",
   "metadata": {},
   "source": [
    "#### Scrabble - shakespear words that do not appear in modern dictionary"
   ]
  },
  {
   "cell_type": "code",
   "execution_count": null,
   "id": "viral-irrigation",
   "metadata": {},
   "outputs": [],
   "source": []
  }
 ],
 "metadata": {
  "kernelspec": {
   "display_name": "Python 3",
   "language": "python",
   "name": "python3"
  },
  "language_info": {
   "codemirror_mode": {
    "name": "ipython",
    "version": 3
   },
   "file_extension": ".py",
   "mimetype": "text/x-python",
   "name": "python",
   "nbconvert_exporter": "python",
   "pygments_lexer": "ipython3",
   "version": "3.7.0"
  }
 },
 "nbformat": 4,
 "nbformat_minor": 5
}
