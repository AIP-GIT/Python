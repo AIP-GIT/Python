{
 "cells": [
  {
   "cell_type": "markdown",
   "id": "comparative-satellite",
   "metadata": {},
   "source": [
    "### Variable Data Types & Operators"
   ]
  },
  {
   "cell_type": "code",
   "execution_count": 1,
   "id": "alive-healthcare",
   "metadata": {},
   "outputs": [],
   "source": [
    "my_name = 'Amit'\n",
    "x = 1\n",
    "\n",
    "y = 10.0"
   ]
  },
  {
   "cell_type": "code",
   "execution_count": 2,
   "id": "registered-equilibrium",
   "metadata": {},
   "outputs": [
    {
     "name": "stdout",
     "output_type": "stream",
     "text": [
      "Amit\n"
     ]
    }
   ],
   "source": [
    "print(my_name)"
   ]
  },
  {
   "cell_type": "code",
   "execution_count": 3,
   "id": "prescribed-treaty",
   "metadata": {},
   "outputs": [
    {
     "data": {
      "text/plain": [
       "str"
      ]
     },
     "execution_count": 3,
     "metadata": {},
     "output_type": "execute_result"
    }
   ],
   "source": [
    "type(my_name)"
   ]
  },
  {
   "cell_type": "code",
   "execution_count": 4,
   "id": "precise-blues",
   "metadata": {},
   "outputs": [
    {
     "data": {
      "text/plain": [
       "float"
      ]
     },
     "execution_count": 4,
     "metadata": {},
     "output_type": "execute_result"
    }
   ],
   "source": [
    "type(y)"
   ]
  },
  {
   "cell_type": "markdown",
   "id": "systematic-amber",
   "metadata": {},
   "source": [
    "#### Boolean"
   ]
  },
  {
   "cell_type": "code",
   "execution_count": 5,
   "id": "thick-display",
   "metadata": {},
   "outputs": [],
   "source": [
    "a = True\n",
    "b = False"
   ]
  },
  {
   "cell_type": "code",
   "execution_count": 6,
   "id": "younger-journey",
   "metadata": {},
   "outputs": [
    {
     "data": {
      "text/plain": [
       "bool"
      ]
     },
     "execution_count": 6,
     "metadata": {},
     "output_type": "execute_result"
    }
   ],
   "source": [
    "type(a)"
   ]
  },
  {
   "cell_type": "markdown",
   "id": "radio-northeast",
   "metadata": {},
   "source": [
    "#### Comparison"
   ]
  },
  {
   "cell_type": "code",
   "execution_count": 7,
   "id": "certified-belief",
   "metadata": {},
   "outputs": [
    {
     "data": {
      "text/plain": [
       "False"
      ]
     },
     "execution_count": 7,
     "metadata": {},
     "output_type": "execute_result"
    }
   ],
   "source": [
    "a == b"
   ]
  },
  {
   "cell_type": "code",
   "execution_count": 8,
   "id": "vertical-filling",
   "metadata": {},
   "outputs": [
    {
     "data": {
      "text/plain": [
       "True"
      ]
     },
     "execution_count": 8,
     "metadata": {},
     "output_type": "execute_result"
    }
   ],
   "source": [
    "a != b"
   ]
  },
  {
   "cell_type": "code",
   "execution_count": 9,
   "id": "foreign-collectible",
   "metadata": {},
   "outputs": [
    {
     "data": {
      "text/plain": [
       "True"
      ]
     },
     "execution_count": 9,
     "metadata": {},
     "output_type": "execute_result"
    }
   ],
   "source": [
    "a == 1  # a is True"
   ]
  },
  {
   "cell_type": "code",
   "execution_count": 10,
   "id": "modified-works",
   "metadata": {},
   "outputs": [
    {
     "data": {
      "text/plain": [
       "True"
      ]
     },
     "execution_count": 10,
     "metadata": {},
     "output_type": "execute_result"
    }
   ],
   "source": [
    "b == 0  # b is False"
   ]
  },
  {
   "cell_type": "code",
   "execution_count": 11,
   "id": "cheap-pavilion",
   "metadata": {},
   "outputs": [
    {
     "data": {
      "text/plain": [
       "True"
      ]
     },
     "execution_count": 11,
     "metadata": {},
     "output_type": "execute_result"
    }
   ],
   "source": [
    "1 < 2  # also, 2 > 1"
   ]
  },
  {
   "cell_type": "code",
   "execution_count": 12,
   "id": "determined-italic",
   "metadata": {},
   "outputs": [
    {
     "data": {
      "text/plain": [
       "True"
      ]
     },
     "execution_count": 12,
     "metadata": {},
     "output_type": "execute_result"
    }
   ],
   "source": [
    "1 <= 2  # also, 2 >= 1"
   ]
  },
  {
   "cell_type": "code",
   "execution_count": 13,
   "id": "herbal-cylinder",
   "metadata": {},
   "outputs": [
    {
     "data": {
      "text/plain": [
       "True"
      ]
     },
     "execution_count": 13,
     "metadata": {},
     "output_type": "execute_result"
    }
   ],
   "source": [
    "1 < 2 and 2 < 3"
   ]
  },
  {
   "cell_type": "code",
   "execution_count": 14,
   "id": "retired-recovery",
   "metadata": {},
   "outputs": [
    {
     "data": {
      "text/plain": [
       "True"
      ]
     },
     "execution_count": 14,
     "metadata": {},
     "output_type": "execute_result"
    }
   ],
   "source": [
    "1 < 2 < 3"
   ]
  },
  {
   "cell_type": "markdown",
   "id": "approximate-finder",
   "metadata": {},
   "source": [
    "#### Numeric"
   ]
  },
  {
   "cell_type": "code",
   "execution_count": 15,
   "id": "activated-remark",
   "metadata": {},
   "outputs": [],
   "source": [
    "x = 2  # int\n",
    "y = 5.0  # float"
   ]
  },
  {
   "cell_type": "code",
   "execution_count": 16,
   "id": "hungry-silence",
   "metadata": {},
   "outputs": [
    {
     "data": {
      "text/plain": [
       "int"
      ]
     },
     "execution_count": 16,
     "metadata": {},
     "output_type": "execute_result"
    }
   ],
   "source": [
    "type(x)"
   ]
  },
  {
   "cell_type": "code",
   "execution_count": 17,
   "id": "liquid-muslim",
   "metadata": {},
   "outputs": [
    {
     "data": {
      "text/plain": [
       "float"
      ]
     },
     "execution_count": 17,
     "metadata": {},
     "output_type": "execute_result"
    }
   ],
   "source": [
    "type(y)"
   ]
  },
  {
   "cell_type": "code",
   "execution_count": 18,
   "id": "educated-artwork",
   "metadata": {},
   "outputs": [
    {
     "data": {
      "text/plain": [
       "7.0"
      ]
     },
     "execution_count": 18,
     "metadata": {},
     "output_type": "execute_result"
    }
   ],
   "source": [
    "x + y"
   ]
  },
  {
   "cell_type": "code",
   "execution_count": 19,
   "id": "future-stage",
   "metadata": {},
   "outputs": [
    {
     "data": {
      "text/plain": [
       "10.0"
      ]
     },
     "execution_count": 19,
     "metadata": {},
     "output_type": "execute_result"
    }
   ],
   "source": [
    "x * y"
   ]
  },
  {
   "cell_type": "markdown",
   "id": "metric-portland",
   "metadata": {},
   "source": [
    "#### String"
   ]
  },
  {
   "cell_type": "code",
   "execution_count": 20,
   "id": "smart-audience",
   "metadata": {},
   "outputs": [
    {
     "name": "stdout",
     "output_type": "stream",
     "text": [
      "'pyt\"hon'\n"
     ]
    }
   ],
   "source": [
    "print(\"\"\"'pyt\"hon'\"\"\")"
   ]
  },
  {
   "cell_type": "code",
   "execution_count": 21,
   "id": "martial-designer",
   "metadata": {},
   "outputs": [],
   "source": [
    "language1 = 'Python'\n",
    "language2 = \"Python\"\n",
    "language3 = '''Python'''  # multi-line\n",
    "language4 = \"\"\"Python\"\"\"  # multi-line"
   ]
  },
  {
   "cell_type": "code",
   "execution_count": 22,
   "id": "capital-morocco",
   "metadata": {},
   "outputs": [
    {
     "data": {
      "text/plain": [
       "True"
      ]
     },
     "execution_count": 22,
     "metadata": {},
     "output_type": "execute_result"
    }
   ],
   "source": [
    "language1 == language2 == language3 == language4"
   ]
  },
  {
   "cell_type": "code",
   "execution_count": 24,
   "id": "higher-mercury",
   "metadata": {},
   "outputs": [
    {
     "name": "stdout",
     "output_type": "stream",
     "text": [
      "57\n"
     ]
    }
   ],
   "source": [
    "a = '5'\n",
    "b = '7'\n",
    "print(a+b)"
   ]
  },
  {
   "cell_type": "code",
   "execution_count": 25,
   "id": "dense-hebrew",
   "metadata": {},
   "outputs": [
    {
     "data": {
      "text/plain": [
       "'Python 3.6'"
      ]
     },
     "execution_count": 25,
     "metadata": {},
     "output_type": "execute_result"
    }
   ],
   "source": [
    "py_version = \"3.6\"\n",
    "\n",
    "language = \"Python \"+py_version\n",
    "language"
   ]
  },
  {
   "cell_type": "code",
   "execution_count": 26,
   "id": "meaning-denial",
   "metadata": {},
   "outputs": [
    {
     "data": {
      "text/plain": [
       "str"
      ]
     },
     "execution_count": 26,
     "metadata": {},
     "output_type": "execute_result"
    }
   ],
   "source": [
    "type(language)"
   ]
  },
  {
   "cell_type": "code",
   "execution_count": 27,
   "id": "vital-barcelona",
   "metadata": {},
   "outputs": [
    {
     "data": {
      "text/plain": [
       "'P'"
      ]
     },
     "execution_count": 27,
     "metadata": {},
     "output_type": "execute_result"
    }
   ],
   "source": [
    "language[0]  # Python is zero-indexed"
   ]
  },
  {
   "cell_type": "code",
   "execution_count": 28,
   "id": "willing-bronze",
   "metadata": {},
   "outputs": [
    {
     "data": {
      "text/plain": [
       "'python 3.6'"
      ]
     },
     "execution_count": 28,
     "metadata": {},
     "output_type": "execute_result"
    }
   ],
   "source": [
    "language.lower()"
   ]
  },
  {
   "cell_type": "code",
   "execution_count": 29,
   "id": "streaming-chase",
   "metadata": {},
   "outputs": [
    {
     "data": {
      "text/plain": [
       "'PYTHON 3.6'"
      ]
     },
     "execution_count": 29,
     "metadata": {},
     "output_type": "execute_result"
    }
   ],
   "source": [
    "language.upper()"
   ]
  },
  {
   "cell_type": "code",
   "execution_count": 30,
   "id": "suspended-diana",
   "metadata": {},
   "outputs": [
    {
     "data": {
      "text/plain": [
       "'Python X.Y'"
      ]
     },
     "execution_count": 30,
     "metadata": {},
     "output_type": "execute_result"
    }
   ],
   "source": [
    "language.replace('3.6', 'X.Y',)  # (old, new)\n",
    "#str.replace?"
   ]
  },
  {
   "cell_type": "code",
   "execution_count": null,
   "id": "decreased-gambling",
   "metadata": {},
   "outputs": [],
   "source": [
    "language"
   ]
  },
  {
   "cell_type": "code",
   "execution_count": null,
   "id": "official-lindsay",
   "metadata": {},
   "outputs": [],
   "source": []
  },
  {
   "cell_type": "markdown",
   "id": "awful-league",
   "metadata": {},
   "source": [
    "### Problem : Swap two given numbers"
   ]
  },
  {
   "cell_type": "code",
   "execution_count": 32,
   "id": "biblical-orchestra",
   "metadata": {},
   "outputs": [
    {
     "name": "stdout",
     "output_type": "stream",
     "text": [
      "enter value of x1\n",
      "enter value of y2\n",
      "Original value of X, Y :  1 2\n",
      "new value of X, Y :  2 1\n"
     ]
    }
   ],
   "source": [
    "x = input(\"enter value of x\")\n",
    "y = input(\"enter value of y\")\n",
    "print(\"Original value of X, Y : \",x,y)\n",
    "temp =x\n",
    "x=y \n",
    "y=temp\n",
    "print(\"new value of X, Y : \",x,y)"
   ]
  },
  {
   "cell_type": "code",
   "execution_count": 34,
   "id": "differential-advancement",
   "metadata": {},
   "outputs": [
    {
     "name": "stdout",
     "output_type": "stream",
     "text": [
      "enter value of x1\n",
      "enter value of y2\n",
      "Original value of X, Y :  1 2\n",
      "new value of X, Y :  2 1\n"
     ]
    }
   ],
   "source": [
    "x = int(input(\"enter value of x\"))\n",
    "y = int(input(\"enter value of y\"))\n",
    "print(\"Original value of X, Y : \",x,y)\n",
    "x = x+y\n",
    "y = x-y\n",
    "x = x-y\n",
    "print(\"new value of X, Y : \",x,y)"
   ]
  },
  {
   "cell_type": "code",
   "execution_count": 1,
   "id": "massive-niger",
   "metadata": {},
   "outputs": [
    {
     "name": "stdout",
     "output_type": "stream",
     "text": [
      "enter value of x5\n",
      "enter value of y7\n",
      "Original value of X, Y :  5 7\n",
      "new value of X, Y :  7 5\n"
     ]
    }
   ],
   "source": [
    "x = int(input(\"enter value of x\"))\n",
    "y = int(input(\"enter value of y\"))\n",
    "print(\"Original value of X, Y : \",x,y)\n",
    "x,y=y,x\n",
    "print(\"new value of X, Y : \",x,y)"
   ]
  },
  {
   "cell_type": "markdown",
   "id": "roman-melbourne",
   "metadata": {},
   "source": [
    "### Circle problem"
   ]
  },
  {
   "cell_type": "code",
   "execution_count": 4,
   "id": "sunset-health",
   "metadata": {},
   "outputs": [
    {
     "name": "stdout",
     "output_type": "stream",
     "text": [
      "Enter value of x: 2\n",
      "Enter value of y: 4\n",
      "Enter value of r: 2\n",
      "Area :  12.568\n",
      "Perimeter :  12.568\n",
      "Value of D :  4.47213595499958\n",
      "Value of d :  2.4721359549995796\n"
     ]
    }
   ],
   "source": [
    "x = int(input(\"Enter value of x: \"))\n",
    "y = int(input(\"Enter value of y: \"))\n",
    "r = int(input(\"Enter value of r: \"))\n",
    "area = 3.142*r*r \n",
    "perimeter = 2*3.142*r \n",
    "D = (x**2+y**2)**0.5\n",
    "d = D-r \n",
    "print(\"Area : \",area)\n",
    "print(\"Perimeter : \",perimeter)\n",
    "print(\"Value of D : \",D)\n",
    "print(\"Value of d : \",d)"
   ]
  },
  {
   "cell_type": "markdown",
   "id": "productive-david",
   "metadata": {},
   "source": [
    "### Control Flow"
   ]
  },
  {
   "cell_type": "code",
   "execution_count": 6,
   "id": "simple-gnome",
   "metadata": {},
   "outputs": [],
   "source": [
    "a = 2\n",
    "if(a>3):\n",
    "    print(\"inside if block\")"
   ]
  },
  {
   "cell_type": "code",
   "execution_count": 8,
   "id": "developing-personality",
   "metadata": {},
   "outputs": [
    {
     "name": "stdout",
     "output_type": "stream",
     "text": [
      "less than 5\n"
     ]
    }
   ],
   "source": [
    "a = 4\n",
    "if (a>5):\n",
    "    print(\"greater than 5\")\n",
    "else:\n",
    "    print(\"less than 5\")"
   ]
  },
  {
   "cell_type": "code",
   "execution_count": 9,
   "id": "enormous-payday",
   "metadata": {},
   "outputs": [],
   "source": [
    "a = 10\n",
    "b = 0\n",
    "\n",
    "if a > 0 and b > 0:\n",
    "    print(\"Add them : \", add_them(a, b))\n",
    "elif a == 0:\n",
    "    print(\"A is zero\")"
   ]
  },
  {
   "cell_type": "code",
   "execution_count": 10,
   "id": "valid-reward",
   "metadata": {},
   "outputs": [
    {
     "name": "stdout",
     "output_type": "stream",
     "text": [
      "Nothing to see\n"
     ]
    }
   ],
   "source": [
    "a = 10\n",
    "b = 0\n",
    "\n",
    "if a > 0 and b > 0:\n",
    "    print(\"Add them : \", add_them(a, b))\n",
    "elif a == 0:\n",
    "    print(\"A is zero\")\n",
    "else:\n",
    "    print(\"Nothing to see\")"
   ]
  },
  {
   "cell_type": "markdown",
   "id": "opposed-corps",
   "metadata": {},
   "source": [
    "#### Write a program to Check if a Number is Odd or Even"
   ]
  },
  {
   "cell_type": "code",
   "execution_count": 12,
   "id": "prerequisite-school",
   "metadata": {},
   "outputs": [
    {
     "name": "stdout",
     "output_type": "stream",
     "text": [
      "Enter your number105\n",
      "odd\n"
     ]
    }
   ],
   "source": [
    "num = int(input(\"Enter your number\"))\n",
    "if (num%2==0):\n",
    "    print(\"Even\")\n",
    "else:\n",
    "    print(\"odd\")"
   ]
  },
  {
   "cell_type": "markdown",
   "id": "entire-notebook",
   "metadata": {},
   "source": [
    "### Basic Programming Loops"
   ]
  },
  {
   "cell_type": "code",
   "execution_count": null,
   "id": "superior-vampire",
   "metadata": {},
   "outputs": [],
   "source": [
    "# for"
   ]
  },
  {
   "cell_type": "code",
   "execution_count": null,
   "id": "commercial-nursery",
   "metadata": {},
   "outputs": [],
   "source": [
    "# while"
   ]
  },
  {
   "cell_type": "code",
   "execution_count": null,
   "id": "absent-essence",
   "metadata": {},
   "outputs": [],
   "source": [
    "# do while"
   ]
  },
  {
   "cell_type": "code",
   "execution_count": 13,
   "id": "restricted-youth",
   "metadata": {},
   "outputs": [
    {
     "name": "stdout",
     "output_type": "stream",
     "text": [
      "5\n",
      "4\n",
      "3\n",
      "2\n",
      "1\n"
     ]
    }
   ],
   "source": [
    "x = 5\n",
    "\n",
    "while x > 0:\n",
    "    print(x)\n",
    "    x = x - 1"
   ]
  },
  {
   "cell_type": "code",
   "execution_count": 14,
   "id": "acquired-spectacular",
   "metadata": {},
   "outputs": [
    {
     "name": "stdout",
     "output_type": "stream",
     "text": [
      "1\n",
      "2\n",
      "3\n"
     ]
    }
   ],
   "source": [
    "for x in [1, 2, 3]:\n",
    "    print(x)"
   ]
  },
  {
   "cell_type": "code",
   "execution_count": null,
   "id": "contained-curtis",
   "metadata": {},
   "outputs": [],
   "source": [
    "for x in (1, 2, 3):\n",
    "    print(x)"
   ]
  },
  {
   "cell_type": "code",
   "execution_count": 16,
   "id": "pharmaceutical-database",
   "metadata": {},
   "outputs": [
    {
     "name": "stdout",
     "output_type": "stream",
     "text": [
      "printing..\n",
      "H\n",
      "printing..\n",
      "E\n",
      "printing..\n",
      "L\n",
      "printing..\n",
      "L\n",
      "printing..\n",
      "O\n"
     ]
    }
   ],
   "source": [
    "my_string = \"HELLO\"\n",
    "\n",
    "for letter in my_string:\n",
    "    print(\"printing..\")\n",
    "    print(letter)"
   ]
  },
  {
   "cell_type": "code",
   "execution_count": 17,
   "id": "golden-night",
   "metadata": {},
   "outputs": [
    {
     "name": "stdout",
     "output_type": "stream",
     "text": [
      "0\n",
      "1\n",
      "2\n",
      "3\n",
      "4\n",
      "5\n",
      "6\n",
      "7\n",
      "8\n",
      "9\n"
     ]
    }
   ],
   "source": [
    "for i in range(10):\n",
    "    print(i)"
   ]
  },
  {
   "cell_type": "markdown",
   "id": "adjustable-exchange",
   "metadata": {},
   "source": [
    "### Loop - Control statement"
   ]
  },
  {
   "cell_type": "code",
   "execution_count": 18,
   "id": "adjusted-drain",
   "metadata": {},
   "outputs": [
    {
     "name": "stdout",
     "output_type": "stream",
     "text": [
      "0 Hello india\n",
      "0 Hello world\n",
      "1 Hello india\n",
      "1 Hello world\n",
      "2 Hello india\n",
      "2 Hello world\n",
      "3 Hello india\n",
      "3 Hello world\n",
      "4 Hello india\n",
      "4 Hello world\n"
     ]
    }
   ],
   "source": [
    "for i in range(5):\n",
    "    print(i,\"Hello india\")\n",
    "    print(i,\"Hello world\")"
   ]
  },
  {
   "cell_type": "code",
   "execution_count": 21,
   "id": "metropolitan-company",
   "metadata": {},
   "outputs": [
    {
     "name": "stdout",
     "output_type": "stream",
     "text": [
      "0 Hello india\n",
      "0 Hello world\n",
      "1 Hello india\n",
      "1 Hello world\n",
      "2 Hello india\n"
     ]
    }
   ],
   "source": [
    "for i in range(5):\n",
    "    print(i,\"Hello india\")\n",
    "    if(i>1):\n",
    "        break\n",
    "    print(i,\"Hello world\")"
   ]
  },
  {
   "cell_type": "code",
   "execution_count": 23,
   "id": "therapeutic-concentration",
   "metadata": {},
   "outputs": [
    {
     "name": "stdout",
     "output_type": "stream",
     "text": [
      "0 Hello india\n",
      "0 Hello world\n",
      "1 Hello india\n",
      "1 Hello world\n",
      "2 Hello india\n",
      "2 Hello world\n",
      "3 Hello india\n",
      "4 Hello india\n"
     ]
    }
   ],
   "source": [
    "for i in range(5):\n",
    "    print(i,\"Hello india\")\n",
    "    if(i>2):\n",
    "        continue\n",
    "    print(i,\"Hello world\")"
   ]
  },
  {
   "cell_type": "code",
   "execution_count": 26,
   "id": "provincial-missouri",
   "metadata": {},
   "outputs": [
    {
     "name": "stdout",
     "output_type": "stream",
     "text": [
      "0 Hello india\n",
      "0 Hello world\n",
      "1 Hello india\n",
      "1 Hello world\n",
      "2 Hello india\n",
      "2 Hello world\n",
      "3 Hello india\n",
      "3 Hello world\n",
      "4 Hello india\n",
      "4 Hello world\n"
     ]
    }
   ],
   "source": [
    "for i in range(5):\n",
    "    print(i,\"Hello india\")\n",
    "    if(i>3):\n",
    "        pass\n",
    "    print(i,\"Hello world\")"
   ]
  },
  {
   "cell_type": "markdown",
   "id": "prepared-railway",
   "metadata": {},
   "source": [
    "### Sequences: lists and tuples and str"
   ]
  },
  {
   "cell_type": "code",
   "execution_count": 27,
   "id": "formed-blackberry",
   "metadata": {},
   "outputs": [],
   "source": [
    "my_list = ['red', 'green', 'blue']\n",
    "\n",
    "my_tuple = ('Amit', 'UK', True)"
   ]
  },
  {
   "cell_type": "code",
   "execution_count": 28,
   "id": "returning-christopher",
   "metadata": {},
   "outputs": [
    {
     "data": {
      "text/plain": [
       "list"
      ]
     },
     "execution_count": 28,
     "metadata": {},
     "output_type": "execute_result"
    }
   ],
   "source": [
    "type(my_list)"
   ]
  },
  {
   "cell_type": "code",
   "execution_count": 29,
   "id": "asian-custom",
   "metadata": {},
   "outputs": [
    {
     "data": {
      "text/plain": [
       "tuple"
      ]
     },
     "execution_count": 29,
     "metadata": {},
     "output_type": "execute_result"
    }
   ],
   "source": [
    "type(my_tuple)"
   ]
  },
  {
   "cell_type": "code",
   "execution_count": 30,
   "id": "infrared-profession",
   "metadata": {},
   "outputs": [
    {
     "data": {
      "text/plain": [
       "True"
      ]
     },
     "execution_count": 30,
     "metadata": {},
     "output_type": "execute_result"
    }
   ],
   "source": [
    "'red' in my_list"
   ]
  },
  {
   "cell_type": "code",
   "execution_count": 31,
   "id": "protecting-accountability",
   "metadata": {},
   "outputs": [
    {
     "data": {
      "text/plain": [
       "False"
      ]
     },
     "execution_count": 31,
     "metadata": {},
     "output_type": "execute_result"
    }
   ],
   "source": [
    "'John' in my_tuple"
   ]
  },
  {
   "cell_type": "code",
   "execution_count": 33,
   "id": "impressed-saver",
   "metadata": {},
   "outputs": [
    {
     "name": "stdout",
     "output_type": "stream",
     "text": [
      "A\n",
      "B\n",
      "C\n",
      "D\n"
     ]
    }
   ],
   "source": [
    "for item in \"ABCD\":\n",
    "    print(item)"
   ]
  },
  {
   "cell_type": "markdown",
   "id": "informal-fundamentals",
   "metadata": {},
   "source": [
    "#### Write a program to print all alphabets and whether it is a vowel or consonant"
   ]
  },
  {
   "cell_type": "code",
   "execution_count": 35,
   "id": "considered-rochester",
   "metadata": {},
   "outputs": [
    {
     "data": {
      "text/plain": [
       "'ABCDEFGHIJKLMNOPQRSTUVWXYZ'"
      ]
     },
     "execution_count": 35,
     "metadata": {},
     "output_type": "execute_result"
    }
   ],
   "source": [
    "import string\n",
    "string.ascii_uppercase"
   ]
  },
  {
   "cell_type": "code",
   "execution_count": 36,
   "id": "virgin-basement",
   "metadata": {},
   "outputs": [
    {
     "name": "stdout",
     "output_type": "stream",
     "text": [
      "A VOWEL\n",
      "B CONST\n",
      "C CONST\n",
      "D CONST\n",
      "E VOWEL\n",
      "F CONST\n",
      "G CONST\n",
      "H CONST\n",
      "I VOWEL\n",
      "J CONST\n",
      "K CONST\n",
      "L CONST\n",
      "M CONST\n",
      "N CONST\n",
      "O VOWEL\n",
      "P CONST\n",
      "Q CONST\n",
      "R CONST\n",
      "S CONST\n",
      "T CONST\n",
      "U VOWEL\n",
      "V CONST\n",
      "W CONST\n",
      "X CONST\n",
      "Y CONST\n",
      "Z CONST\n"
     ]
    }
   ],
   "source": [
    "import string\n",
    "\n",
    "for alpha in string.ascii_uppercase:\n",
    "    if alpha in \"AEIOU\":\n",
    "        print(alpha,\"VOWEL\")\n",
    "    else:\n",
    "        print(alpha,\"CONST\")"
   ]
  },
  {
   "cell_type": "markdown",
   "id": "female-librarian",
   "metadata": {},
   "source": [
    "#### slicing and striding "
   ]
  },
  {
   "cell_type": "code",
   "execution_count": 37,
   "id": "common-moderator",
   "metadata": {},
   "outputs": [
    {
     "data": {
      "text/plain": [
       "[0, 1, 2, 3, 4, 5, 6, 7, 8, 9]"
      ]
     },
     "execution_count": 37,
     "metadata": {},
     "output_type": "execute_result"
    }
   ],
   "source": [
    "a = list(range(10))\n",
    "a"
   ]
  },
  {
   "cell_type": "code",
   "execution_count": 39,
   "id": "american-resource",
   "metadata": {},
   "outputs": [
    {
     "data": {
      "text/plain": [
       "[3, 5]"
      ]
     },
     "execution_count": 39,
     "metadata": {},
     "output_type": "execute_result"
    }
   ],
   "source": [
    "a[3:7:2]"
   ]
  },
  {
   "cell_type": "code",
   "execution_count": 40,
   "id": "promotional-hurricane",
   "metadata": {},
   "outputs": [],
   "source": [
    "record = ('Marco', 'UK', True, 123)  # tuple\n",
    "colours = ['blue', 'red', 'green']  # list"
   ]
  },
  {
   "cell_type": "code",
   "execution_count": 41,
   "id": "affected-sample",
   "metadata": {},
   "outputs": [
    {
     "name": "stdout",
     "output_type": "stream",
     "text": [
      "Marco\n",
      "UK\n",
      "True\n",
      "123\n"
     ]
    }
   ],
   "source": [
    "for item in record:\n",
    "    print(item)"
   ]
  },
  {
   "cell_type": "code",
   "execution_count": 42,
   "id": "extensive-donna",
   "metadata": {},
   "outputs": [
    {
     "name": "stdout",
     "output_type": "stream",
     "text": [
      "blue\n",
      "red\n",
      "green\n"
     ]
    }
   ],
   "source": [
    "for item in colours:\n",
    "    print(item)"
   ]
  },
  {
   "cell_type": "code",
   "execution_count": 45,
   "id": "disabled-chain",
   "metadata": {},
   "outputs": [
    {
     "data": {
      "text/plain": [
       "False"
      ]
     },
     "execution_count": 45,
     "metadata": {},
     "output_type": "execute_result"
    }
   ],
   "source": [
    "['blue', 'blue', 'red'] == ['red','blue', 'blue']  # order matters!"
   ]
  },
  {
   "cell_type": "code",
   "execution_count": 46,
   "id": "younger-rebound",
   "metadata": {},
   "outputs": [
    {
     "data": {
      "text/plain": [
       "'Marco'"
      ]
     },
     "execution_count": 46,
     "metadata": {},
     "output_type": "execute_result"
    }
   ],
   "source": [
    "record[0]  # Python is zero-indexed"
   ]
  },
  {
   "cell_type": "code",
   "execution_count": 47,
   "id": "presidential-teens",
   "metadata": {},
   "outputs": [
    {
     "data": {
      "text/plain": [
       "'green'"
      ]
     },
     "execution_count": 47,
     "metadata": {},
     "output_type": "execute_result"
    }
   ],
   "source": [
    "colours[2]  # get the Nth item"
   ]
  },
  {
   "cell_type": "code",
   "execution_count": 50,
   "id": "bright-marine",
   "metadata": {},
   "outputs": [
    {
     "data": {
      "text/plain": [
       "'blue'"
      ]
     },
     "execution_count": 50,
     "metadata": {},
     "output_type": "execute_result"
    }
   ],
   "source": [
    "colours[-3]  # get the last item"
   ]
  },
  {
   "cell_type": "code",
   "execution_count": 51,
   "id": "computational-robert",
   "metadata": {},
   "outputs": [],
   "source": [
    "colours = ['blue', 'red', 'green', 'black', 'white']"
   ]
  },
  {
   "cell_type": "code",
   "execution_count": 52,
   "id": "royal-fraction",
   "metadata": {},
   "outputs": [
    {
     "data": {
      "text/plain": [
       "['blue', 'red']"
      ]
     },
     "execution_count": 52,
     "metadata": {},
     "output_type": "execute_result"
    }
   ],
   "source": [
    "colours[0:2]"
   ]
  },
  {
   "cell_type": "code",
   "execution_count": 53,
   "id": "synthetic-receptor",
   "metadata": {},
   "outputs": [
    {
     "data": {
      "text/plain": [
       "['black']"
      ]
     },
     "execution_count": 53,
     "metadata": {},
     "output_type": "execute_result"
    }
   ],
   "source": [
    "colours[3:4]"
   ]
  },
  {
   "cell_type": "code",
   "execution_count": 54,
   "id": "quarterly-bracket",
   "metadata": {},
   "outputs": [
    {
     "data": {
      "text/plain": [
       "['blue', 'red', 'green']"
      ]
     },
     "execution_count": 54,
     "metadata": {},
     "output_type": "execute_result"
    }
   ],
   "source": [
    "colours[:3]"
   ]
  },
  {
   "cell_type": "code",
   "execution_count": 55,
   "id": "disabled-species",
   "metadata": {},
   "outputs": [
    {
     "data": {
      "text/plain": [
       "['blue', 'red', 'green', 'black']"
      ]
     },
     "execution_count": 55,
     "metadata": {},
     "output_type": "execute_result"
    }
   ],
   "source": [
    "colours[:-1]"
   ]
  },
  {
   "cell_type": "code",
   "execution_count": 56,
   "id": "patient-wednesday",
   "metadata": {},
   "outputs": [
    {
     "data": {
      "text/plain": [
       "['white', 'black', 'green', 'red', 'blue']"
      ]
     },
     "execution_count": 56,
     "metadata": {},
     "output_type": "execute_result"
    }
   ],
   "source": [
    "colours[::-1]"
   ]
  },
  {
   "cell_type": "markdown",
   "id": "thirty-vanilla",
   "metadata": {},
   "source": [
    "#### Mutable vs Immutable data"
   ]
  },
  {
   "cell_type": "code",
   "execution_count": 57,
   "id": "improving-testament",
   "metadata": {},
   "outputs": [
    {
     "ename": "TypeError",
     "evalue": "'tuple' object does not support item assignment",
     "output_type": "error",
     "traceback": [
      "\u001b[1;31m---------------------------------------------------------------------------\u001b[0m",
      "\u001b[1;31mTypeError\u001b[0m                                 Traceback (most recent call last)",
      "\u001b[1;32m<ipython-input-57-67fd92b5b58b>\u001b[0m in \u001b[0;36m<module>\u001b[1;34m\u001b[0m\n\u001b[1;32m----> 1\u001b[1;33m \u001b[0mrecord\u001b[0m\u001b[1;33m[\u001b[0m\u001b[1;36m0\u001b[0m\u001b[1;33m]\u001b[0m \u001b[1;33m=\u001b[0m \u001b[1;34m'Jane'\u001b[0m  \u001b[1;31m# tuples are immutable!\u001b[0m\u001b[1;33m\u001b[0m\u001b[0m\n\u001b[0m",
      "\u001b[1;31mTypeError\u001b[0m: 'tuple' object does not support item assignment"
     ]
    }
   ],
   "source": [
    "record[0] = 'Jane'  # tuples are immutable!"
   ]
  },
  {
   "cell_type": "code",
   "execution_count": 65,
   "id": "exotic-tractor",
   "metadata": {},
   "outputs": [
    {
     "data": {
      "text/plain": [
       "['yellow', 'red', 'green']"
      ]
     },
     "execution_count": 65,
     "metadata": {},
     "output_type": "execute_result"
    }
   ],
   "source": [
    "colours = ['blue', 'red', 'green']  # list\n",
    "colours[0] = 'yellow'  # lists are mutable\n",
    "colours"
   ]
  },
  {
   "cell_type": "code",
   "execution_count": 66,
   "id": "pending-spare",
   "metadata": {},
   "outputs": [
    {
     "data": {
      "text/plain": [
       "['yellow', 'red', 'green', 'orange']"
      ]
     },
     "execution_count": 66,
     "metadata": {},
     "output_type": "execute_result"
    }
   ],
   "source": [
    "colours.append('orange')\n",
    "colours"
   ]
  },
  {
   "cell_type": "code",
   "execution_count": 67,
   "id": "covered-terminal",
   "metadata": {},
   "outputs": [
    {
     "data": {
      "text/plain": [
       "['yellow', 'red', 'green', 'orange', 'black', 'white']"
      ]
     },
     "execution_count": 67,
     "metadata": {},
     "output_type": "execute_result"
    }
   ],
   "source": [
    "colours.extend(['black', 'white'])\n",
    "colours"
   ]
  },
  {
   "cell_type": "code",
   "execution_count": 68,
   "id": "living-knock",
   "metadata": {},
   "outputs": [
    {
     "data": {
      "text/plain": [
       "['yellow', 'red', 'green', 'orange', 'black', 'white', 'purple']"
      ]
     },
     "execution_count": 68,
     "metadata": {},
     "output_type": "execute_result"
    }
   ],
   "source": [
    "colours.extend('purple')\n",
    "colours"
   ]
  },
  {
   "cell_type": "code",
   "execution_count": 69,
   "id": "secure-grammar",
   "metadata": {},
   "outputs": [
    {
     "name": "stdout",
     "output_type": "stream",
     "text": [
      "Help on built-in function sort:\n",
      "\n",
      "sort(*, key=None, reverse=False) method of builtins.list instance\n",
      "    Stable sort *IN PLACE*.\n",
      "\n"
     ]
    }
   ],
   "source": [
    "help(colours.sort)"
   ]
  },
  {
   "cell_type": "markdown",
   "id": "dangerous-career",
   "metadata": {},
   "source": [
    "#### Check if the string is palindrome"
   ]
  },
  {
   "cell_type": "code",
   "execution_count": null,
   "id": "meaningful-sequence",
   "metadata": {},
   "outputs": [],
   "source": []
  }
 ],
 "metadata": {
  "kernelspec": {
   "display_name": "Python 3",
   "language": "python",
   "name": "python3"
  },
  "language_info": {
   "codemirror_mode": {
    "name": "ipython",
    "version": 3
   },
   "file_extension": ".py",
   "mimetype": "text/x-python",
   "name": "python",
   "nbconvert_exporter": "python",
   "pygments_lexer": "ipython3",
   "version": "3.7.0"
  }
 },
 "nbformat": 4,
 "nbformat_minor": 5
}
