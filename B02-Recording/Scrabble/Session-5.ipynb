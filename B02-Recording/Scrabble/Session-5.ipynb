{
 "cells": [
  {
   "cell_type": "code",
   "execution_count": 1,
   "id": "bf25fde6",
   "metadata": {},
   "outputs": [
    {
     "name": "stdout",
     "output_type": "stream",
     "text": [
      "[1, 4, 9, 16, 25]\n"
     ]
    }
   ],
   "source": [
    "numbers = (1,2,3,4,5)\n",
    "output = list()\n",
    "for i in numbers:\n",
    "    output.append(i**2)\n",
    "print(output)"
   ]
  },
  {
   "cell_type": "markdown",
   "id": "94fb0a31",
   "metadata": {},
   "source": [
    "### List comprehension"
   ]
  },
  {
   "cell_type": "code",
   "execution_count": 2,
   "id": "e3906785",
   "metadata": {},
   "outputs": [
    {
     "name": "stdout",
     "output_type": "stream",
     "text": [
      "[1, 4, 9, 16, 25]\n"
     ]
    }
   ],
   "source": [
    "output = [i**2 for i in numbers]\n",
    "print(output)"
   ]
  },
  {
   "cell_type": "markdown",
   "id": "a04f76f9",
   "metadata": {},
   "source": [
    "### Nested loops"
   ]
  },
  {
   "cell_type": "code",
   "execution_count": 4,
   "id": "969510a3",
   "metadata": {},
   "outputs": [
    {
     "name": "stdout",
     "output_type": "stream",
     "text": [
      "1 A\n",
      "1 B\n",
      "1 C\n",
      "2 A\n",
      "2 B\n",
      "2 C\n",
      "3 A\n",
      "3 B\n",
      "3 C\n"
     ]
    }
   ],
   "source": [
    "for i in [1,2,3]:\n",
    "    for j in \"ABC\":\n",
    "        print(i,j)"
   ]
  },
  {
   "cell_type": "code",
   "execution_count": 7,
   "id": "159ffa80",
   "metadata": {},
   "outputs": [
    {
     "name": "stdout",
     "output_type": "stream",
     "text": [
      "[(1, 2), (1, 3), (2, 1), (2, 3), (3, 1), (3, 2)]\n"
     ]
    }
   ],
   "source": [
    "a = [1,2,3]\n",
    "b = [1,2,3]\n",
    "combos = list()\n",
    "for i in a:\n",
    "    for j in b:\n",
    "        if (i!=j):\n",
    "            combos.append((i,j))\n",
    "            \n",
    "print(combos)"
   ]
  },
  {
   "cell_type": "code",
   "execution_count": 9,
   "id": "9b6d5df8",
   "metadata": {},
   "outputs": [
    {
     "name": "stdout",
     "output_type": "stream",
     "text": [
      "[(1, 2), (1, 3), (2, 1), (2, 3), (3, 1), (3, 2)]\n"
     ]
    }
   ],
   "source": [
    "combos = [(i,j) for i in a for j in b if i!=j]\n",
    "print(combos)"
   ]
  },
  {
   "cell_type": "code",
   "execution_count": 10,
   "id": "95a23528",
   "metadata": {},
   "outputs": [],
   "source": [
    "distance = [10,15,17,26]\n",
    "time = [1,2,2,4]\n",
    "speeds = []\n",
    "\n"
   ]
  },
  {
   "cell_type": "code",
   "execution_count": 12,
   "id": "893444b2",
   "metadata": {},
   "outputs": [
    {
     "data": {
      "text/plain": [
       "[10.0, 7.5, 8.5, 6.5]"
      ]
     },
     "execution_count": 12,
     "metadata": {},
     "output_type": "execute_result"
    }
   ],
   "source": [
    "for i in range(len(distance)):\n",
    "    speeds.append(distance[i]/time[i])\n",
    "    \n",
    "speeds"
   ]
  },
  {
   "cell_type": "code",
   "execution_count": 14,
   "id": "6ffeed17",
   "metadata": {},
   "outputs": [
    {
     "data": {
      "text/plain": [
       "[(10, 1), (15, 2), (17, 2), (26, 4)]"
      ]
     },
     "execution_count": 14,
     "metadata": {},
     "output_type": "execute_result"
    }
   ],
   "source": [
    "list(zip(distance,time))"
   ]
  },
  {
   "cell_type": "code",
   "execution_count": 15,
   "id": "a5065384",
   "metadata": {},
   "outputs": [
    {
     "data": {
      "text/plain": [
       "[10.0, 7.5, 8.5, 6.5]"
      ]
     },
     "execution_count": 15,
     "metadata": {},
     "output_type": "execute_result"
    }
   ],
   "source": [
    "speeds = [i/j for i,j in zip(distance,time)]\n",
    "speeds"
   ]
  },
  {
   "cell_type": "code",
   "execution_count": 18,
   "id": "1158623b",
   "metadata": {},
   "outputs": [
    {
     "name": "stdout",
     "output_type": "stream",
     "text": [
      "3075\n"
     ]
    }
   ],
   "source": [
    "p = [100,65,250]\n",
    "q = [10,5,7]\n",
    "\n",
    "total = sum([i*j for i,j in zip(p,q)])\n",
    "print(total)\n"
   ]
  },
  {
   "cell_type": "markdown",
   "id": "3763c041",
   "metadata": {},
   "source": [
    "### dictionary comprehension"
   ]
  },
  {
   "cell_type": "code",
   "execution_count": 24,
   "id": "51d691e1",
   "metadata": {},
   "outputs": [
    {
     "name": "stdout",
     "output_type": "stream",
     "text": [
      "{'The': 3, 'quick': 5, 'brown': 5, 'fox': 3, 'jumped': 6, 'over': 4, 'the': 3, 'lazy': 4, 'dog': 3}\n"
     ]
    }
   ],
   "source": [
    "sentence = \"The quick quick brown fox jumped over the quick lazy dog The\"\n",
    "output = dict()\n",
    "for word in sentence.split():\n",
    "    output[word] = len(word)\n",
    "    \n",
    "print(output)"
   ]
  },
  {
   "cell_type": "code",
   "execution_count": 25,
   "id": "7758e627",
   "metadata": {},
   "outputs": [
    {
     "name": "stdout",
     "output_type": "stream",
     "text": [
      "{'The': 3, 'quick': 5, 'brown': 5, 'fox': 3, 'jumped': 6, 'over': 4, 'the': 3, 'lazy': 4, 'dog': 3}\n"
     ]
    }
   ],
   "source": [
    "output = {word:len(word) for word in sentence.split()}\n",
    "print(output)"
   ]
  },
  {
   "cell_type": "code",
   "execution_count": 26,
   "id": "4d9f82c5",
   "metadata": {},
   "outputs": [
    {
     "name": "stdout",
     "output_type": "stream",
     "text": [
      "['a', 'b', 'c', 'a', 'b', 'd', 'f', 'd', 's', 'a', 'c', 'b', 'p', 'w', 'e', 'b', 'a', 'r', 'd', 'f']\n"
     ]
    }
   ],
   "source": [
    "ips = list(\"abcabdfdsacbpwebardf\")\n",
    "print(ips)"
   ]
  },
  {
   "cell_type": "code",
   "execution_count": 27,
   "id": "898eef52",
   "metadata": {},
   "outputs": [
    {
     "name": "stdout",
     "output_type": "stream",
     "text": [
      "{'d', 'w', 'r', 'p', 's', 'f', 'b', 'a', 'c', 'e'}\n"
     ]
    }
   ],
   "source": [
    "unique_ip=set()\n",
    "for i in ips:\n",
    "    unique_ip.add(i)\n",
    "    \n",
    "print(unique_ip)\n",
    "    \n",
    "    "
   ]
  },
  {
   "cell_type": "code",
   "execution_count": 28,
   "id": "e943e4e6",
   "metadata": {},
   "outputs": [
    {
     "name": "stdout",
     "output_type": "stream",
     "text": [
      "{'d', 'w', 'r', 'p', 's', 'f', 'b', 'a', 'c', 'e'}\n"
     ]
    }
   ],
   "source": [
    "unique_ip = {i for i in ips}\n",
    "print(unique_ip)"
   ]
  },
  {
   "cell_type": "code",
   "execution_count": null,
   "id": "eaf5edbc",
   "metadata": {},
   "outputs": [],
   "source": []
  }
 ],
 "metadata": {
  "kernelspec": {
   "display_name": "Python 3",
   "language": "python",
   "name": "python3"
  },
  "language_info": {
   "codemirror_mode": {
    "name": "ipython",
    "version": 3
   },
   "file_extension": ".py",
   "mimetype": "text/x-python",
   "name": "python",
   "nbconvert_exporter": "python",
   "pygments_lexer": "ipython3",
   "version": "3.8.5"
  }
 },
 "nbformat": 4,
 "nbformat_minor": 5
}
