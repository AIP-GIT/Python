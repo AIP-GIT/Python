{
 "cells": [
  {
   "cell_type": "markdown",
   "id": "comparative-satellite",
   "metadata": {
    "heading_collapsed": true
   },
   "source": [
    "### Variable Data Types & Operators"
   ]
  },
  {
   "cell_type": "code",
   "execution_count": 1,
   "id": "alive-healthcare",
   "metadata": {
    "hidden": true
   },
   "outputs": [],
   "source": [
    "my_name = 'Amit'\n",
    "x = 1\n",
    "\n",
    "y = 10.0"
   ]
  },
  {
   "cell_type": "code",
   "execution_count": 2,
   "id": "registered-equilibrium",
   "metadata": {
    "hidden": true
   },
   "outputs": [
    {
     "name": "stdout",
     "output_type": "stream",
     "text": [
      "Amit\n"
     ]
    }
   ],
   "source": [
    "print(my_name)"
   ]
  },
  {
   "cell_type": "code",
   "execution_count": 3,
   "id": "prescribed-treaty",
   "metadata": {
    "hidden": true
   },
   "outputs": [
    {
     "data": {
      "text/plain": [
       "str"
      ]
     },
     "execution_count": 3,
     "metadata": {},
     "output_type": "execute_result"
    }
   ],
   "source": [
    "type(my_name)"
   ]
  },
  {
   "cell_type": "code",
   "execution_count": 4,
   "id": "precise-blues",
   "metadata": {
    "hidden": true
   },
   "outputs": [
    {
     "data": {
      "text/plain": [
       "float"
      ]
     },
     "execution_count": 4,
     "metadata": {},
     "output_type": "execute_result"
    }
   ],
   "source": [
    "type(y)"
   ]
  },
  {
   "cell_type": "markdown",
   "id": "systematic-amber",
   "metadata": {
    "heading_collapsed": true,
    "hidden": true
   },
   "source": [
    "#### Boolean"
   ]
  },
  {
   "cell_type": "code",
   "execution_count": 5,
   "id": "thick-display",
   "metadata": {
    "hidden": true
   },
   "outputs": [],
   "source": [
    "a = True\n",
    "b = False"
   ]
  },
  {
   "cell_type": "code",
   "execution_count": 6,
   "id": "younger-journey",
   "metadata": {
    "hidden": true
   },
   "outputs": [
    {
     "data": {
      "text/plain": [
       "bool"
      ]
     },
     "execution_count": 6,
     "metadata": {},
     "output_type": "execute_result"
    }
   ],
   "source": [
    "type(a)"
   ]
  },
  {
   "cell_type": "markdown",
   "id": "radio-northeast",
   "metadata": {
    "heading_collapsed": true,
    "hidden": true
   },
   "source": [
    "#### Comparison"
   ]
  },
  {
   "cell_type": "code",
   "execution_count": 8,
   "id": "certified-belief",
   "metadata": {
    "hidden": true
   },
   "outputs": [
    {
     "data": {
      "text/plain": [
       "False"
      ]
     },
     "execution_count": 8,
     "metadata": {},
     "output_type": "execute_result"
    }
   ],
   "source": [
    "a == b"
   ]
  },
  {
   "cell_type": "code",
   "execution_count": 9,
   "id": "vertical-filling",
   "metadata": {
    "hidden": true
   },
   "outputs": [
    {
     "data": {
      "text/plain": [
       "True"
      ]
     },
     "execution_count": 9,
     "metadata": {},
     "output_type": "execute_result"
    }
   ],
   "source": [
    "a != b"
   ]
  },
  {
   "cell_type": "code",
   "execution_count": 10,
   "id": "foreign-collectible",
   "metadata": {
    "hidden": true
   },
   "outputs": [
    {
     "data": {
      "text/plain": [
       "True"
      ]
     },
     "execution_count": 10,
     "metadata": {},
     "output_type": "execute_result"
    }
   ],
   "source": [
    "a == 1  # a is True"
   ]
  },
  {
   "cell_type": "code",
   "execution_count": 11,
   "id": "modified-works",
   "metadata": {
    "hidden": true
   },
   "outputs": [
    {
     "data": {
      "text/plain": [
       "True"
      ]
     },
     "execution_count": 11,
     "metadata": {},
     "output_type": "execute_result"
    }
   ],
   "source": [
    "b == 0  # b is False"
   ]
  },
  {
   "cell_type": "code",
   "execution_count": 12,
   "id": "cheap-pavilion",
   "metadata": {
    "hidden": true
   },
   "outputs": [
    {
     "data": {
      "text/plain": [
       "True"
      ]
     },
     "execution_count": 12,
     "metadata": {},
     "output_type": "execute_result"
    }
   ],
   "source": [
    "1 < 2  # also, 2 > 1"
   ]
  },
  {
   "cell_type": "code",
   "execution_count": 13,
   "id": "determined-italic",
   "metadata": {
    "hidden": true
   },
   "outputs": [
    {
     "data": {
      "text/plain": [
       "True"
      ]
     },
     "execution_count": 13,
     "metadata": {},
     "output_type": "execute_result"
    }
   ],
   "source": [
    "1 <= 2  # also, 2 >= 1"
   ]
  },
  {
   "cell_type": "code",
   "execution_count": 14,
   "id": "herbal-cylinder",
   "metadata": {
    "hidden": true
   },
   "outputs": [
    {
     "data": {
      "text/plain": [
       "True"
      ]
     },
     "execution_count": 14,
     "metadata": {},
     "output_type": "execute_result"
    }
   ],
   "source": [
    "1 < 2 and 2 < 3"
   ]
  },
  {
   "cell_type": "code",
   "execution_count": 15,
   "id": "retired-recovery",
   "metadata": {
    "hidden": true
   },
   "outputs": [
    {
     "data": {
      "text/plain": [
       "True"
      ]
     },
     "execution_count": 15,
     "metadata": {},
     "output_type": "execute_result"
    }
   ],
   "source": [
    "1 < 2 < 3"
   ]
  },
  {
   "cell_type": "markdown",
   "id": "approximate-finder",
   "metadata": {
    "heading_collapsed": true,
    "hidden": true
   },
   "source": [
    "#### Numeric"
   ]
  },
  {
   "cell_type": "code",
   "execution_count": 16,
   "id": "activated-remark",
   "metadata": {
    "hidden": true
   },
   "outputs": [],
   "source": [
    "x = 2  # int\n",
    "y = 5.0  # float"
   ]
  },
  {
   "cell_type": "code",
   "execution_count": 17,
   "id": "hungry-silence",
   "metadata": {
    "hidden": true
   },
   "outputs": [
    {
     "data": {
      "text/plain": [
       "int"
      ]
     },
     "execution_count": 17,
     "metadata": {},
     "output_type": "execute_result"
    }
   ],
   "source": [
    "type(x)"
   ]
  },
  {
   "cell_type": "code",
   "execution_count": 18,
   "id": "liquid-muslim",
   "metadata": {
    "hidden": true
   },
   "outputs": [
    {
     "data": {
      "text/plain": [
       "float"
      ]
     },
     "execution_count": 18,
     "metadata": {},
     "output_type": "execute_result"
    }
   ],
   "source": [
    "type(y)"
   ]
  },
  {
   "cell_type": "code",
   "execution_count": 19,
   "id": "educated-artwork",
   "metadata": {
    "hidden": true
   },
   "outputs": [
    {
     "data": {
      "text/plain": [
       "7.0"
      ]
     },
     "execution_count": 19,
     "metadata": {},
     "output_type": "execute_result"
    }
   ],
   "source": [
    "x + y"
   ]
  },
  {
   "cell_type": "code",
   "execution_count": 20,
   "id": "future-stage",
   "metadata": {
    "hidden": true
   },
   "outputs": [
    {
     "data": {
      "text/plain": [
       "10.0"
      ]
     },
     "execution_count": 20,
     "metadata": {},
     "output_type": "execute_result"
    }
   ],
   "source": [
    "x * y"
   ]
  },
  {
   "cell_type": "markdown",
   "id": "metric-portland",
   "metadata": {
    "hidden": true
   },
   "source": [
    "#### String"
   ]
  },
  {
   "cell_type": "code",
   "execution_count": 21,
   "id": "smart-audience",
   "metadata": {
    "hidden": true
   },
   "outputs": [
    {
     "name": "stdout",
     "output_type": "stream",
     "text": [
      "'pyt\"hon'\n"
     ]
    }
   ],
   "source": [
    "print(\"\"\"'pyt\"hon'\"\"\")"
   ]
  },
  {
   "cell_type": "code",
   "execution_count": 22,
   "id": "martial-designer",
   "metadata": {
    "hidden": true
   },
   "outputs": [],
   "source": [
    "language1 = 'Python'\n",
    "language2 = \"Python\"\n",
    "language3 = '''Python'''  # multi-line\n",
    "language4 = \"\"\"Python\"\"\"  # multi-line"
   ]
  },
  {
   "cell_type": "code",
   "execution_count": 23,
   "id": "capital-morocco",
   "metadata": {
    "hidden": true
   },
   "outputs": [
    {
     "data": {
      "text/plain": [
       "True"
      ]
     },
     "execution_count": 23,
     "metadata": {},
     "output_type": "execute_result"
    }
   ],
   "source": [
    "language1 == language2 == language3 == language4"
   ]
  },
  {
   "cell_type": "code",
   "execution_count": 24,
   "id": "dense-hebrew",
   "metadata": {
    "hidden": true
   },
   "outputs": [
    {
     "data": {
      "text/plain": [
       "'Python 3.6'"
      ]
     },
     "execution_count": 24,
     "metadata": {},
     "output_type": "execute_result"
    }
   ],
   "source": [
    "py_version = \"3.6\"\n",
    "\n",
    "language = \"Python {}\".format(py_version)\n",
    "language"
   ]
  },
  {
   "cell_type": "code",
   "execution_count": 25,
   "id": "meaning-denial",
   "metadata": {
    "hidden": true
   },
   "outputs": [
    {
     "data": {
      "text/plain": [
       "str"
      ]
     },
     "execution_count": 25,
     "metadata": {},
     "output_type": "execute_result"
    }
   ],
   "source": [
    "type(language)"
   ]
  },
  {
   "cell_type": "code",
   "execution_count": 26,
   "id": "vital-barcelona",
   "metadata": {
    "hidden": true
   },
   "outputs": [
    {
     "data": {
      "text/plain": [
       "'P'"
      ]
     },
     "execution_count": 26,
     "metadata": {},
     "output_type": "execute_result"
    }
   ],
   "source": [
    "language[0]  # Python is zero-indexed"
   ]
  },
  {
   "cell_type": "code",
   "execution_count": 27,
   "id": "willing-bronze",
   "metadata": {
    "hidden": true
   },
   "outputs": [
    {
     "data": {
      "text/plain": [
       "'python 3.6'"
      ]
     },
     "execution_count": 27,
     "metadata": {},
     "output_type": "execute_result"
    }
   ],
   "source": [
    "language.lower()"
   ]
  },
  {
   "cell_type": "code",
   "execution_count": 28,
   "id": "streaming-chase",
   "metadata": {
    "hidden": true
   },
   "outputs": [
    {
     "data": {
      "text/plain": [
       "'PYTHON 3.6'"
      ]
     },
     "execution_count": 28,
     "metadata": {},
     "output_type": "execute_result"
    }
   ],
   "source": [
    "language.upper()"
   ]
  },
  {
   "cell_type": "code",
   "execution_count": 29,
   "id": "suspended-diana",
   "metadata": {
    "hidden": true
   },
   "outputs": [
    {
     "data": {
      "text/plain": [
       "'Python X.Y'"
      ]
     },
     "execution_count": 29,
     "metadata": {},
     "output_type": "execute_result"
    }
   ],
   "source": [
    "language.replace('3.6', 'X.Y',)  # (old, new)\n",
    "#str.replace?"
   ]
  },
  {
   "cell_type": "code",
   "execution_count": 30,
   "id": "decreased-gambling",
   "metadata": {
    "hidden": true
   },
   "outputs": [
    {
     "data": {
      "text/plain": [
       "'Python 3.6'"
      ]
     },
     "execution_count": 30,
     "metadata": {},
     "output_type": "execute_result"
    }
   ],
   "source": [
    "language"
   ]
  },
  {
   "cell_type": "code",
   "execution_count": null,
   "id": "official-lindsay",
   "metadata": {
    "hidden": true
   },
   "outputs": [],
   "source": []
  },
  {
   "cell_type": "markdown",
   "id": "awful-league",
   "metadata": {
    "heading_collapsed": true
   },
   "source": [
    "### Problem : Swap two given numbers"
   ]
  },
  {
   "cell_type": "code",
   "execution_count": null,
   "id": "analyzed-cycling",
   "metadata": {
    "hidden": true
   },
   "outputs": [],
   "source": []
  },
  {
   "cell_type": "markdown",
   "id": "muslim-ranch",
   "metadata": {
    "heading_collapsed": true
   },
   "source": [
    "### Write a program to Check if a Number is Odd or Even"
   ]
  },
  {
   "cell_type": "markdown",
   "id": "roman-melbourne",
   "metadata": {
    "heading_collapsed": true
   },
   "source": [
    "### Circle problem"
   ]
  },
  {
   "cell_type": "code",
   "execution_count": null,
   "id": "sunset-health",
   "metadata": {
    "hidden": true
   },
   "outputs": [],
   "source": []
  },
  {
   "cell_type": "markdown",
   "id": "productive-david",
   "metadata": {
    "heading_collapsed": true
   },
   "source": [
    "### Control Flow"
   ]
  },
  {
   "cell_type": "code",
   "execution_count": 45,
   "id": "enormous-payday",
   "metadata": {
    "hidden": true
   },
   "outputs": [],
   "source": [
    "a = 10\n",
    "b = 0\n",
    "\n",
    "if a > 0 and b > 0:\n",
    "    #print(\"Add them! {}\".format(add_them(a, b)))\n",
    "    print(\"Add them : \", add_them(a, b))\n",
    "elif a == 0:\n",
    "    print(\"A is zero\")"
   ]
  },
  {
   "cell_type": "code",
   "execution_count": 46,
   "id": "valid-reward",
   "metadata": {
    "hidden": true
   },
   "outputs": [
    {
     "name": "stdout",
     "output_type": "stream",
     "text": [
      "Nothing to see\n"
     ]
    }
   ],
   "source": [
    "a = 10\n",
    "b = 0\n",
    "\n",
    "if a > 0 and b > 0:\n",
    "    print(\"Add them : \", add_them(a, b))\n",
    "elif a == 0:\n",
    "    print(\"A is zero\")\n",
    "else:\n",
    "    print(\"Nothing to see\")"
   ]
  },
  {
   "cell_type": "markdown",
   "id": "entire-notebook",
   "metadata": {
    "heading_collapsed": true
   },
   "source": [
    "### Basic Programming Loops"
   ]
  },
  {
   "cell_type": "markdown",
   "id": "sized-driving",
   "metadata": {
    "heading_collapsed": true,
    "hidden": true
   },
   "source": [
    "#### for - print \"hello world\" 10 times"
   ]
  },
  {
   "cell_type": "code",
   "execution_count": null,
   "id": "superior-vampire",
   "metadata": {
    "hidden": true
   },
   "outputs": [],
   "source": []
  },
  {
   "cell_type": "markdown",
   "id": "mature-government",
   "metadata": {
    "hidden": true
   },
   "source": [
    "#### while - calculating score of batsman until is out"
   ]
  },
  {
   "cell_type": "code",
   "execution_count": null,
   "id": "commercial-nursery",
   "metadata": {
    "hidden": true
   },
   "outputs": [],
   "source": []
  },
  {
   "cell_type": "markdown",
   "id": "corporate-faith",
   "metadata": {
    "hidden": true
   },
   "source": [
    "#### do-while - login to facebook page"
   ]
  },
  {
   "cell_type": "code",
   "execution_count": null,
   "id": "absent-essence",
   "metadata": {
    "hidden": true
   },
   "outputs": [],
   "source": []
  },
  {
   "cell_type": "code",
   "execution_count": null,
   "id": "restricted-youth",
   "metadata": {
    "hidden": true
   },
   "outputs": [],
   "source": [
    "x = 5\n",
    "\n",
    "while x > 0:\n",
    "    print(x)\n",
    "    x = x - 1"
   ]
  },
  {
   "cell_type": "code",
   "execution_count": null,
   "id": "acquired-spectacular",
   "metadata": {
    "hidden": true
   },
   "outputs": [],
   "source": [
    "for x in [1, 2, 3]:\n",
    "    print(x)"
   ]
  },
  {
   "cell_type": "code",
   "execution_count": null,
   "id": "contained-curtis",
   "metadata": {
    "hidden": true
   },
   "outputs": [],
   "source": [
    "for x in (1, 2, 3):\n",
    "    print(x)"
   ]
  },
  {
   "cell_type": "code",
   "execution_count": null,
   "id": "pharmaceutical-database",
   "metadata": {
    "hidden": true
   },
   "outputs": [],
   "source": [
    "my_string = \"HELLO\"\n",
    "\n",
    "for letter in my_string:\n",
    "    print(letter)"
   ]
  },
  {
   "cell_type": "markdown",
   "id": "adjustable-exchange",
   "metadata": {
    "heading_collapsed": true
   },
   "source": [
    "### Loop - Control statement"
   ]
  },
  {
   "cell_type": "code",
   "execution_count": 41,
   "id": "adjusted-drain",
   "metadata": {
    "hidden": true
   },
   "outputs": [
    {
     "name": "stdout",
     "output_type": "stream",
     "text": [
      "0 Hello india\n",
      "0 Hello world\n",
      "1 Hello india\n",
      "1 Hello world\n",
      "2 Hello india\n",
      "2 Hello world\n",
      "3 Hello india\n",
      "3 Hello world\n",
      "4 Hello india\n",
      "4 Hello world\n"
     ]
    }
   ],
   "source": [
    "for i in range(5):\n",
    "    print(i,\"Hello india\")\n",
    "    print(i,\"Hello world\")"
   ]
  },
  {
   "cell_type": "code",
   "execution_count": 42,
   "id": "metropolitan-company",
   "metadata": {
    "hidden": true
   },
   "outputs": [
    {
     "name": "stdout",
     "output_type": "stream",
     "text": [
      "0 Hello india\n",
      "0 Hello world\n",
      "1 Hello india\n",
      "1 Hello world\n",
      "2 Hello india\n",
      "2 Hello world\n",
      "3 Hello india\n",
      "3 Hello world\n",
      "4 Hello india\n"
     ]
    }
   ],
   "source": [
    "for i in range(5):\n",
    "    print(i,\"Hello india\")\n",
    "    if(i>3):\n",
    "        break\n",
    "    print(i,\"Hello world\")"
   ]
  },
  {
   "cell_type": "code",
   "execution_count": 43,
   "id": "therapeutic-concentration",
   "metadata": {
    "hidden": true
   },
   "outputs": [
    {
     "name": "stdout",
     "output_type": "stream",
     "text": [
      "0 Hello india\n",
      "0 Hello world\n",
      "1 Hello india\n",
      "1 Hello world\n",
      "2 Hello india\n",
      "2 Hello world\n",
      "3 Hello india\n",
      "3 Hello world\n",
      "4 Hello india\n"
     ]
    }
   ],
   "source": [
    "for i in range(5):\n",
    "    print(i,\"Hello india\")\n",
    "    if(i>3):\n",
    "        continue\n",
    "    print(i,\"Hello world\")"
   ]
  },
  {
   "cell_type": "code",
   "execution_count": 44,
   "id": "provincial-missouri",
   "metadata": {
    "hidden": true
   },
   "outputs": [
    {
     "name": "stdout",
     "output_type": "stream",
     "text": [
      "0 Hello india\n",
      "0 Hello world\n",
      "1 Hello india\n",
      "1 Hello world\n",
      "2 Hello india\n",
      "2 Hello world\n",
      "3 Hello india\n",
      "3 Hello world\n",
      "4 Hello india\n",
      "4 Hello world\n"
     ]
    }
   ],
   "source": [
    "for i in range(5):\n",
    "    print(i,\"Hello india\")\n",
    "    if(i>3):\n",
    "        pass\n",
    "    print(i,\"Hello world\")"
   ]
  },
  {
   "cell_type": "markdown",
   "id": "prepared-railway",
   "metadata": {
    "heading_collapsed": true
   },
   "source": [
    "### Sequences: lists and tuples and str"
   ]
  },
  {
   "cell_type": "code",
   "execution_count": null,
   "id": "formed-blackberry",
   "metadata": {
    "hidden": true
   },
   "outputs": [],
   "source": [
    "my_list = ['red', 'green', 'blue']\n",
    "\n",
    "my_tuple = ('Amit', 'UK', True)"
   ]
  },
  {
   "cell_type": "code",
   "execution_count": null,
   "id": "returning-christopher",
   "metadata": {
    "hidden": true
   },
   "outputs": [],
   "source": [
    "type(my_list)"
   ]
  },
  {
   "cell_type": "code",
   "execution_count": null,
   "id": "asian-custom",
   "metadata": {
    "hidden": true
   },
   "outputs": [],
   "source": [
    "type(my_tuple)"
   ]
  },
  {
   "cell_type": "code",
   "execution_count": null,
   "id": "infrared-profession",
   "metadata": {
    "hidden": true
   },
   "outputs": [],
   "source": [
    "'red' in my_list"
   ]
  },
  {
   "cell_type": "code",
   "execution_count": null,
   "id": "protecting-accountability",
   "metadata": {
    "hidden": true
   },
   "outputs": [],
   "source": [
    "'John' in my_tuple"
   ]
  },
  {
   "cell_type": "code",
   "execution_count": null,
   "id": "impressed-saver",
   "metadata": {
    "hidden": true
   },
   "outputs": [],
   "source": [
    "for item in my_list:\n",
    "    print(item)"
   ]
  },
  {
   "cell_type": "markdown",
   "id": "informal-fundamentals",
   "metadata": {
    "hidden": true
   },
   "source": [
    "#### Write a program to print all alphabets and whether it is a vowel or consonant"
   ]
  },
  {
   "cell_type": "code",
   "execution_count": null,
   "id": "virgin-basement",
   "metadata": {
    "hidden": true
   },
   "outputs": [],
   "source": []
  },
  {
   "cell_type": "markdown",
   "id": "female-librarian",
   "metadata": {
    "hidden": true
   },
   "source": [
    "#### slicing and striding "
   ]
  },
  {
   "cell_type": "code",
   "execution_count": null,
   "id": "promotional-hurricane",
   "metadata": {
    "hidden": true
   },
   "outputs": [],
   "source": [
    "record = ('Marco', 'UK', True, 123)  # tuple\n",
    "colours = ['blue', 'red', 'green']  # list"
   ]
  },
  {
   "cell_type": "code",
   "execution_count": null,
   "id": "affected-sample",
   "metadata": {
    "hidden": true
   },
   "outputs": [],
   "source": [
    "for item in record:\n",
    "    print(item)"
   ]
  },
  {
   "cell_type": "code",
   "execution_count": null,
   "id": "extensive-donna",
   "metadata": {
    "hidden": true
   },
   "outputs": [],
   "source": [
    "for item in colours:\n",
    "    print(item)"
   ]
  },
  {
   "cell_type": "code",
   "execution_count": null,
   "id": "disabled-chain",
   "metadata": {
    "hidden": true
   },
   "outputs": [],
   "source": [
    "['blue', 'blue', 'red'] == ['red', 'blue', 'blue']  # order matters!"
   ]
  },
  {
   "cell_type": "code",
   "execution_count": null,
   "id": "younger-rebound",
   "metadata": {
    "hidden": true
   },
   "outputs": [],
   "source": [
    "record[0]  # Python is zero-indexed"
   ]
  },
  {
   "cell_type": "code",
   "execution_count": null,
   "id": "presidential-teens",
   "metadata": {
    "hidden": true
   },
   "outputs": [],
   "source": [
    "colours[2]  # get the Nth item"
   ]
  },
  {
   "cell_type": "code",
   "execution_count": null,
   "id": "bright-marine",
   "metadata": {
    "hidden": true
   },
   "outputs": [],
   "source": [
    "colours[-1]  # get the last item"
   ]
  },
  {
   "cell_type": "code",
   "execution_count": 58,
   "id": "computational-robert",
   "metadata": {
    "hidden": true
   },
   "outputs": [],
   "source": [
    "colours = ['blue', 'red', 'green', 'black', 'white']"
   ]
  },
  {
   "cell_type": "code",
   "execution_count": null,
   "id": "royal-fraction",
   "metadata": {
    "hidden": true
   },
   "outputs": [],
   "source": [
    "colours[0:2]"
   ]
  },
  {
   "cell_type": "code",
   "execution_count": null,
   "id": "synthetic-receptor",
   "metadata": {
    "hidden": true
   },
   "outputs": [],
   "source": [
    "colours[3:4]"
   ]
  },
  {
   "cell_type": "code",
   "execution_count": null,
   "id": "quarterly-bracket",
   "metadata": {
    "hidden": true
   },
   "outputs": [],
   "source": [
    "colours[:3]"
   ]
  },
  {
   "cell_type": "code",
   "execution_count": null,
   "id": "disabled-species",
   "metadata": {
    "hidden": true
   },
   "outputs": [],
   "source": [
    "colours[:-1]"
   ]
  },
  {
   "cell_type": "code",
   "execution_count": null,
   "id": "patient-wednesday",
   "metadata": {
    "hidden": true
   },
   "outputs": [],
   "source": []
  },
  {
   "cell_type": "markdown",
   "id": "thirty-vanilla",
   "metadata": {
    "hidden": true
   },
   "source": [
    "#### Mutable vs Immutable data"
   ]
  },
  {
   "cell_type": "code",
   "execution_count": 55,
   "id": "improving-testament",
   "metadata": {
    "hidden": true
   },
   "outputs": [
    {
     "ename": "TypeError",
     "evalue": "'tuple' object does not support item assignment",
     "output_type": "error",
     "traceback": [
      "\u001b[1;31m---------------------------------------------------------------------------\u001b[0m",
      "\u001b[1;31mTypeError\u001b[0m                                 Traceback (most recent call last)",
      "\u001b[1;32m<ipython-input-55-67fd92b5b58b>\u001b[0m in \u001b[0;36m<module>\u001b[1;34m\u001b[0m\n\u001b[1;32m----> 1\u001b[1;33m \u001b[0mrecord\u001b[0m\u001b[1;33m[\u001b[0m\u001b[1;36m0\u001b[0m\u001b[1;33m]\u001b[0m \u001b[1;33m=\u001b[0m \u001b[1;34m'Jane'\u001b[0m  \u001b[1;31m# tuples are immutable!\u001b[0m\u001b[1;33m\u001b[0m\u001b[0m\n\u001b[0m",
      "\u001b[1;31mTypeError\u001b[0m: 'tuple' object does not support item assignment"
     ]
    }
   ],
   "source": [
    "record[0] = 'Jane'  # tuples are immutable!"
   ]
  },
  {
   "cell_type": "code",
   "execution_count": 56,
   "id": "exotic-tractor",
   "metadata": {
    "hidden": true
   },
   "outputs": [
    {
     "data": {
      "text/plain": [
       "['yellow', 'red', 'green']"
      ]
     },
     "execution_count": 56,
     "metadata": {},
     "output_type": "execute_result"
    }
   ],
   "source": [
    "colours[0] = 'yellow'  # lists are mutable\n",
    "colours"
   ]
  },
  {
   "cell_type": "code",
   "execution_count": 57,
   "id": "pending-spare",
   "metadata": {
    "hidden": true
   },
   "outputs": [
    {
     "data": {
      "text/plain": [
       "['yellow', 'red', 'green', 'orange']"
      ]
     },
     "execution_count": 57,
     "metadata": {},
     "output_type": "execute_result"
    }
   ],
   "source": [
    "colours.append('orange')\n",
    "colours"
   ]
  },
  {
   "cell_type": "code",
   "execution_count": null,
   "id": "covered-terminal",
   "metadata": {
    "hidden": true
   },
   "outputs": [],
   "source": [
    "colours.extend(['black', 'white'])\n",
    "colours"
   ]
  },
  {
   "cell_type": "code",
   "execution_count": null,
   "id": "living-knock",
   "metadata": {
    "hidden": true
   },
   "outputs": [],
   "source": [
    "colours.extend('purple')\n",
    "colours"
   ]
  },
  {
   "cell_type": "code",
   "execution_count": null,
   "id": "secure-grammar",
   "metadata": {
    "hidden": true
   },
   "outputs": [],
   "source": []
  },
  {
   "cell_type": "markdown",
   "id": "dangerous-career",
   "metadata": {
    "hidden": true
   },
   "source": [
    "#### Check if the string is palindrome"
   ]
  },
  {
   "cell_type": "code",
   "execution_count": null,
   "id": "cosmetic-vintage",
   "metadata": {
    "hidden": true
   },
   "outputs": [],
   "source": [
    "# using two pointers\n",
    "# using one pointer\n",
    "# using reversed function\n",
    "# striding technique"
   ]
  },
  {
   "cell_type": "code",
   "execution_count": null,
   "id": "meaningful-sequence",
   "metadata": {
    "hidden": true
   },
   "outputs": [],
   "source": []
  },
  {
   "cell_type": "markdown",
   "id": "prompt-prize",
   "metadata": {
    "heading_collapsed": true
   },
   "source": [
    "### Mappings: dictionaries"
   ]
  },
  {
   "cell_type": "code",
   "execution_count": 31,
   "id": "level-workshop",
   "metadata": {
    "hidden": true
   },
   "outputs": [
    {
     "data": {
      "text/plain": [
       "{'id': 123, 'price': 19.9, 'description': 'Book', 'in_stock': True}"
      ]
     },
     "execution_count": 31,
     "metadata": {},
     "output_type": "execute_result"
    }
   ],
   "source": [
    "item = {\n",
    "    'id': 123,\n",
    "    'price': 19.90,\n",
    "    'description': 'Book',\n",
    "    'in_stock': True\n",
    "}\n",
    "\n",
    "item"
   ]
  },
  {
   "cell_type": "code",
   "execution_count": 32,
   "id": "opened-toilet",
   "metadata": {
    "hidden": true
   },
   "outputs": [],
   "source": [
    "#Creating a dictionary\n",
    "student_marks = {\n",
    "    'name':'Chandra',\n",
    "    'Physics' : 98,\n",
    "    'Chemistry':76,\n",
    "    'Maths':100\n",
    "}"
   ]
  },
  {
   "cell_type": "code",
   "execution_count": 33,
   "id": "deluxe-drawing",
   "metadata": {
    "hidden": true
   },
   "outputs": [
    {
     "name": "stdout",
     "output_type": "stream",
     "text": [
      "Chandra\n",
      "98\n"
     ]
    }
   ],
   "source": [
    "print (student_marks['name'])\n",
    "print(student_marks['Physics'])"
   ]
  },
  {
   "cell_type": "code",
   "execution_count": null,
   "id": "brown-protection",
   "metadata": {
    "hidden": true
   },
   "outputs": [],
   "source": [
    "type(item)"
   ]
  },
  {
   "cell_type": "code",
   "execution_count": null,
   "id": "documentary-finish",
   "metadata": {
    "hidden": true
   },
   "outputs": [],
   "source": [
    "#updating the value for a given key\n",
    "item['price'] = 24.9\n",
    "\n",
    "item['price']"
   ]
  },
  {
   "cell_type": "code",
   "execution_count": null,
   "id": "acquired-string",
   "metadata": {
    "hidden": true
   },
   "outputs": [],
   "source": [
    "#deleting key value pair\n",
    "del item['in_stock']\n",
    "\n",
    "item"
   ]
  },
  {
   "cell_type": "code",
   "execution_count": null,
   "id": "following-association",
   "metadata": {
    "hidden": true
   },
   "outputs": [],
   "source": [
    "#inserting a new key-value pair\n",
    "item['available'] = True\n",
    "\n",
    "item"
   ]
  },
  {
   "cell_type": "code",
   "execution_count": null,
   "id": "another-might",
   "metadata": {
    "hidden": true
   },
   "outputs": [],
   "source": [
    "item['does_not_exist']"
   ]
  },
  {
   "cell_type": "markdown",
   "id": "certain-external",
   "metadata": {
    "hidden": true
   },
   "source": [
    "#### Exercise"
   ]
  },
  {
   "cell_type": "code",
   "execution_count": null,
   "id": "eight-secret",
   "metadata": {
    "hidden": true
   },
   "outputs": [],
   "source": [
    "# Given a list of products, print out the name of all the products with a price higher than 10\n",
    "products = [\n",
    "    {'name': 'orange', 'price': 20},\n",
    "    {'name': 'apple', 'price': 8},\n",
    "    {'name': 'banana', 'price': 10}\n",
    "]"
   ]
  },
  {
   "cell_type": "markdown",
   "id": "russian-sport",
   "metadata": {
    "heading_collapsed": true
   },
   "source": [
    "### Importance of data structures"
   ]
  },
  {
   "cell_type": "markdown",
   "id": "social-tuition",
   "metadata": {
    "hidden": true
   },
   "source": [
    "#### Discuss the problem of storing marks of students"
   ]
  },
  {
   "cell_type": "markdown",
   "id": "seasonal-frost",
   "metadata": {
    "hidden": true
   },
   "source": [
    "#### Unique IP address hit the blog"
   ]
  },
  {
   "cell_type": "markdown",
   "id": "entire-twenty",
   "metadata": {
    "heading_collapsed": true
   },
   "source": [
    "### Comprehension"
   ]
  },
  {
   "cell_type": "markdown",
   "id": "protective-fifteen",
   "metadata": {
    "heading_collapsed": true,
    "hidden": true
   },
   "source": [
    "#### List comprehension"
   ]
  },
  {
   "cell_type": "code",
   "execution_count": 59,
   "id": "declared-pleasure",
   "metadata": {
    "hidden": true
   },
   "outputs": [],
   "source": [
    "squares = []\n",
    "\n",
    "for x in range(100):\n",
    "    squares.append(x*x)"
   ]
  },
  {
   "cell_type": "code",
   "execution_count": 60,
   "id": "separated-justice",
   "metadata": {
    "hidden": true
   },
   "outputs": [
    {
     "data": {
      "text/plain": [
       "[0, 1, 4, 9, 16, 25, 36, 49, 64, 81]"
      ]
     },
     "execution_count": 60,
     "metadata": {},
     "output_type": "execute_result"
    }
   ],
   "source": [
    "squares = [x*x for x in range(10)]\n",
    "squares"
   ]
  },
  {
   "cell_type": "code",
   "execution_count": 61,
   "id": "reasonable-growth",
   "metadata": {
    "hidden": true
   },
   "outputs": [
    {
     "data": {
      "text/plain": [
       "[(1, 2), (1, 3), (2, 1), (2, 3), (3, 1), (3, 2)]"
      ]
     },
     "execution_count": 61,
     "metadata": {},
     "output_type": "execute_result"
    }
   ],
   "source": [
    "combos = []\n",
    "\n",
    "for x in [1, 2, 3]:\n",
    "    for y in [1, 2, 3]:\n",
    "        if x != y:\n",
    "            combos.append( (x, y) )\n",
    "            \n",
    "combos"
   ]
  },
  {
   "cell_type": "code",
   "execution_count": 62,
   "id": "distant-pulse",
   "metadata": {
    "hidden": true
   },
   "outputs": [
    {
     "data": {
      "text/plain": [
       "[(1, 2), (1, 3), (2, 1), (2, 3), (3, 1), (3, 2)]"
      ]
     },
     "execution_count": 62,
     "metadata": {},
     "output_type": "execute_result"
    }
   ],
   "source": [
    "combos = [(x, y) for x in [1, 2, 3] for y in [1, 2, 3] if x != y]\n",
    "combos"
   ]
  },
  {
   "cell_type": "code",
   "execution_count": 63,
   "id": "ancient-thesis",
   "metadata": {
    "hidden": true
   },
   "outputs": [
    {
     "data": {
      "text/plain": [
       "[(1, 2), (1, 3), (2, 1), (2, 3), (3, 1), (3, 2)]"
      ]
     },
     "execution_count": 63,
     "metadata": {},
     "output_type": "execute_result"
    }
   ],
   "source": [
    "combos = [(x, y) for x in [1, 2, 3]\n",
    "                 for y in [1, 2, 3]\n",
    "                 if x != y]\n",
    "combos"
   ]
  },
  {
   "cell_type": "code",
   "execution_count": 64,
   "id": "noticed-guarantee",
   "metadata": {
    "hidden": true
   },
   "outputs": [
    {
     "data": {
      "text/plain": [
       "[33.333333333333336,\n",
       " 31.914893617021278,\n",
       " 30.909090909090907,\n",
       " 21.666666666666668,\n",
       " 20.0]"
      ]
     },
     "execution_count": 64,
     "metadata": {},
     "output_type": "execute_result"
    }
   ],
   "source": [
    "distances = [10, 15, 17, 26, 20]\n",
    "times = [0.3, 0.47, 0.55, 1.20, 1.0]\n",
    "\n",
    "# Calculate speeds with Python\n",
    "speeds = []\n",
    "for i in range(len(distances)):\n",
    "    speeds.append(distances[i]/times[i])\n",
    "    \n",
    "speeds"
   ]
  },
  {
   "cell_type": "code",
   "execution_count": 65,
   "id": "legal-reservation",
   "metadata": {
    "hidden": true
   },
   "outputs": [
    {
     "data": {
      "text/plain": [
       "[33.333333333333336,\n",
       " 31.914893617021278,\n",
       " 30.909090909090907,\n",
       " 21.666666666666668,\n",
       " 20.0]"
      ]
     },
     "execution_count": 65,
     "metadata": {},
     "output_type": "execute_result"
    }
   ],
   "source": [
    "[d/t for d,t in zip(distances, times)]"
   ]
  },
  {
   "cell_type": "code",
   "execution_count": 66,
   "id": "exotic-statistics",
   "metadata": {
    "hidden": true
   },
   "outputs": [
    {
     "data": {
      "text/plain": [
       "157.1"
      ]
     },
     "execution_count": 66,
     "metadata": {},
     "output_type": "execute_result"
    }
   ],
   "source": [
    "product_quantities = [13, 5, 6, 10, 11]\n",
    "prices = [1.2, 6.5, 1.0, 4.8, 5.0]\n",
    "total = sum([q*p for q,p in zip(product_quantities, prices)])\n",
    "total"
   ]
  },
  {
   "cell_type": "code",
   "execution_count": 67,
   "id": "naughty-athletics",
   "metadata": {
    "hidden": true
   },
   "outputs": [
    {
     "ename": "TypeError",
     "evalue": "unsupported operand type(s) for /: 'list' and 'list'",
     "output_type": "error",
     "traceback": [
      "\u001b[1;31m---------------------------------------------------------------------------\u001b[0m",
      "\u001b[1;31mTypeError\u001b[0m                                 Traceback (most recent call last)",
      "\u001b[1;32m<ipython-input-67-c2430d9899a8>\u001b[0m in \u001b[0;36m<module>\u001b[1;34m\u001b[0m\n\u001b[1;32m----> 1\u001b[1;33m \u001b[0mspeeds\u001b[0m \u001b[1;33m=\u001b[0m \u001b[0mdistances\u001b[0m\u001b[1;33m/\u001b[0m\u001b[0mtimes\u001b[0m\u001b[1;33m\u001b[0m\u001b[0m\n\u001b[0m\u001b[0;32m      2\u001b[0m \u001b[0mtotal\u001b[0m \u001b[1;33m=\u001b[0m \u001b[1;33m(\u001b[0m\u001b[0mproduct_quantities\u001b[0m\u001b[1;33m*\u001b[0m\u001b[0mprices\u001b[0m\u001b[1;33m)\u001b[0m\u001b[1;33m.\u001b[0m\u001b[0msum\u001b[0m\u001b[1;33m(\u001b[0m\u001b[1;33m)\u001b[0m\u001b[1;33m\u001b[0m\u001b[0m\n",
      "\u001b[1;31mTypeError\u001b[0m: unsupported operand type(s) for /: 'list' and 'list'"
     ]
    }
   ],
   "source": [
    "speeds = distances/times\n",
    "total = (product_quantities*prices).sum()"
   ]
  },
  {
   "cell_type": "markdown",
   "id": "thousand-contribution",
   "metadata": {
    "hidden": true
   },
   "source": [
    "#### Dictionary comprehension"
   ]
  },
  {
   "cell_type": "code",
   "execution_count": 68,
   "id": "sophisticated-staff",
   "metadata": {
    "hidden": true
   },
   "outputs": [
    {
     "data": {
      "text/plain": [
       "['The', 'quick', 'brown', 'fox', 'jumped', 'over', 'the', 'lazy', 'dog']"
      ]
     },
     "execution_count": 68,
     "metadata": {},
     "output_type": "execute_result"
    }
   ],
   "source": [
    "words = \"The quick brown fox jumped over the lazy dog\".split()\n",
    "words"
   ]
  },
  {
   "cell_type": "code",
   "execution_count": 69,
   "id": "royal-satisfaction",
   "metadata": {
    "hidden": true
   },
   "outputs": [
    {
     "data": {
      "text/plain": [
       "{'The': 3,\n",
       " 'quick': 5,\n",
       " 'brown': 5,\n",
       " 'fox': 3,\n",
       " 'jumped': 6,\n",
       " 'over': 4,\n",
       " 'the': 3,\n",
       " 'lazy': 4,\n",
       " 'dog': 3}"
      ]
     },
     "execution_count": 69,
     "metadata": {},
     "output_type": "execute_result"
    }
   ],
   "source": [
    "word_len = {}\n",
    "\n",
    "for w in words:\n",
    "    word_len[w] = len(w)\n",
    "    \n",
    "word_len"
   ]
  },
  {
   "cell_type": "code",
   "execution_count": 70,
   "id": "stock-enough",
   "metadata": {
    "hidden": true
   },
   "outputs": [
    {
     "data": {
      "text/plain": [
       "{'The': 3,\n",
       " 'quick': 5,\n",
       " 'brown': 5,\n",
       " 'fox': 3,\n",
       " 'jumped': 6,\n",
       " 'over': 4,\n",
       " 'the': 3,\n",
       " 'lazy': 4,\n",
       " 'dog': 3}"
      ]
     },
     "execution_count": 70,
     "metadata": {},
     "output_type": "execute_result"
    }
   ],
   "source": [
    "word_len = {w: len(w) for w in words}\n",
    "word_len"
   ]
  },
  {
   "cell_type": "markdown",
   "id": "freelance-opportunity",
   "metadata": {
    "hidden": true
   },
   "source": [
    "#### set comprehension"
   ]
  },
  {
   "cell_type": "code",
   "execution_count": null,
   "id": "heated-dispute",
   "metadata": {
    "hidden": true
   },
   "outputs": [],
   "source": []
  },
  {
   "cell_type": "markdown",
   "id": "innocent-greece",
   "metadata": {
    "heading_collapsed": true
   },
   "source": [
    "### Function"
   ]
  },
  {
   "cell_type": "code",
   "execution_count": null,
   "id": "particular-compact",
   "metadata": {
    "hidden": true
   },
   "outputs": [],
   "source": [
    "def add_them(a, b):\n",
    "    return a + b"
   ]
  },
  {
   "cell_type": "code",
   "execution_count": null,
   "id": "cordless-bulgarian",
   "metadata": {
    "hidden": true
   },
   "outputs": [],
   "source": [
    "add_them(10, 5)"
   ]
  },
  {
   "cell_type": "code",
   "execution_count": null,
   "id": "conventional-scheduling",
   "metadata": {
    "hidden": true
   },
   "outputs": [],
   "source": [
    "add_them('foo', 'bar')"
   ]
  },
  {
   "cell_type": "code",
   "execution_count": null,
   "id": "minor-regard",
   "metadata": {
    "hidden": true
   },
   "outputs": [],
   "source": [
    "add_them('hello', 3)"
   ]
  },
  {
   "cell_type": "markdown",
   "id": "overhead-royal",
   "metadata": {},
   "source": [
    "### Importance of dict & set for search"
   ]
  },
  {
   "cell_type": "markdown",
   "id": "given-bracelet",
   "metadata": {},
   "source": [
    "#### Scrabble - Find all the words which contains 'uu' in the word"
   ]
  },
  {
   "cell_type": "markdown",
   "id": "sacred-stylus",
   "metadata": {},
   "source": [
    "#### Scrabble - print all alphabets that never appear double"
   ]
  },
  {
   "cell_type": "markdown",
   "id": "original-federation",
   "metadata": {},
   "source": [
    "#### Scrabble - English words that contains all the vowels"
   ]
  },
  {
   "cell_type": "markdown",
   "id": "opening-diagnosis",
   "metadata": {},
   "source": [
    "#### Scrabble - Print all palindrome"
   ]
  },
  {
   "cell_type": "markdown",
   "id": "falling-turning",
   "metadata": {},
   "source": [
    "#### Scrabble - print the longest palindrome"
   ]
  },
  {
   "cell_type": "markdown",
   "id": "monetary-nickel",
   "metadata": {},
   "source": [
    "#### Scrabble - shakespear words that do not appear in modern dictionary"
   ]
  },
  {
   "cell_type": "code",
   "execution_count": null,
   "id": "viral-irrigation",
   "metadata": {},
   "outputs": [],
   "source": []
  }
 ],
 "metadata": {
  "kernelspec": {
   "display_name": "Python 3",
   "language": "python",
   "name": "python3"
  },
  "language_info": {
   "codemirror_mode": {
    "name": "ipython",
    "version": 3
   },
   "file_extension": ".py",
   "mimetype": "text/x-python",
   "name": "python",
   "nbconvert_exporter": "python",
   "pygments_lexer": "ipython3",
   "version": "3.7.0"
  }
 },
 "nbformat": 4,
 "nbformat_minor": 5
}
