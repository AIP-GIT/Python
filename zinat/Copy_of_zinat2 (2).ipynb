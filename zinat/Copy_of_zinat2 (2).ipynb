{
  "nbformat": 4,
  "nbformat_minor": 0,
  "metadata": {
    "colab": {
      "name": "Copy of zinat2.ipynb",
      "provenance": [],
      "collapsed_sections": []
    },
    "kernelspec": {
      "name": "python3",
      "display_name": "Python 3"
    }
  },
  "cells": [
    {
      "cell_type": "code",
      "metadata": {
        "id": "H0xVN4dx7-BD"
      },
      "source": [
        "print(\"program for maximum of three number\")\r\n",
        "num1=int(input(\"enter the 1st number:\"))\r\n",
        "num2=int(input(\"enter the 2nd number:\"))\r\n",
        "num3=int(input(\"enter the 3rd number:\"))\r\n",
        "Max=max(num1,num2,num3)\r\n",
        "print(\"the maximum number is:\",Max)\r\n",
        "\r\n",
        "\r\n"
      ],
      "execution_count": null,
      "outputs": []
    },
    {
      "cell_type": "code",
      "metadata": {
        "id": "jF4WqlRT-2O_"
      },
      "source": [
        "print(\"program for minimum of three number\")\r\n",
        "num1=int(input(\"enter the 1st number:\"))\r\n",
        "num2=int(input(\"enter the 2nd number:\"))\r\n",
        "num3=int(input(\"enter the 3rd number:\"))\r\n",
        "Min=min(num1,num2,num3)\r\n",
        "print(\"the minimum number is:\",Min)\r\n",
        "\r\n"
      ],
      "execution_count": null,
      "outputs": []
    },
    {
      "cell_type": "code",
      "metadata": {
        "id": "suMIvex5_ThL"
      },
      "source": [
        "sum=0\r\n",
        "nums=[1,7,6,8,9]\r\n",
        "for num in nums:\r\n",
        " sum=sum+num\r\n",
        "print(\"sum:\",sum)\r\n",
        "\r\n",
        "\r\n"
      ],
      "execution_count": null,
      "outputs": []
    },
    {
      "cell_type": "code",
      "metadata": {
        "id": "i0mcEqyGAopy"
      },
      "source": [
        "sum=0\r\n",
        "nums=\"6789\"\r\n",
        "for num in nums:\r\n",
        " sum=sum+int(num)\r\n",
        "print(\"sum:\",sum)"
      ],
      "execution_count": null,
      "outputs": []
    },
    {
      "cell_type": "code",
      "metadata": {
        "id": "towaX91zNbOo"
      },
      "source": [
        "print(\"operation on complex type value\")\r\n",
        "n1=20+1.5j\r\n",
        "n2=10+1j\r\n",
        "print(\"Addition of two complex value\",n1+n2)\r\n",
        "print(\"subtraction of two complex value\",n1-n2)\r\n",
        "print(\"multiplication of two complex value\",n1*n2)\r\n",
        "print(\"division of two complex value\",n1/n2)"
      ],
      "execution_count": null,
      "outputs": []
    },
    {
      "cell_type": "code",
      "metadata": {
        "id": "Pj0DhZCfUwE4"
      },
      "source": [
        "print(\"program for list sorted in increasing order \")\r\n",
        "list=[21,2,90,7,4,37,55]\r\n",
        "list.sort(reverse=True)\r\n",
        "print(\"sorted list in increasing order:\",list)\r\n"
      ],
      "execution_count": null,
      "outputs": []
    },
    {
      "cell_type": "code",
      "metadata": {
        "id": "FnprSN1JwEg4"
      },
      "source": [
        "\r\n"
      ],
      "execution_count": null,
      "outputs": []
    },
    {
      "cell_type": "markdown",
      "metadata": {
        "id": "XKTw9CnKUqmy"
      },
      "source": [
        ""
      ]
    },
    {
      "cell_type": "code",
      "metadata": {
        "id": "pNoM5HKfUpA6"
      },
      "source": [
        ""
      ],
      "execution_count": null,
      "outputs": []
    }
  ]
}