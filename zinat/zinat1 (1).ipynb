{
  "nbformat": 4,
  "nbformat_minor": 0,
  "metadata": {
    "colab": {
      "name": "zinat1.ipynb",
      "provenance": [],
      "collapsed_sections": []
    },
    "kernelspec": {
      "name": "python3",
      "display_name": "Python 3"
    }
  },
  "cells": [
    {
      "cell_type": "code",
      "metadata": {
        "id": "ASnQ9TBoa4se"
      },
      "source": [
        ""
      ],
      "execution_count": null,
      "outputs": []
    },
    {
      "cell_type": "code",
      "metadata": {
        "id": "dWd_1UmaR9Dn"
      },
      "source": [
        "p=int(input(\"enter principal amount: \"))\r\n",
        "r=int(input(\"enter the rate:\"))\r\n",
        "t=int(input(\"enter time:\"))\r\n",
        "si=(p*r*t)/100\r\n",
        "print(si)"
      ],
      "execution_count": null,
      "outputs": []
    },
    {
      "cell_type": "code",
      "metadata": {
        "colab": {
          "base_uri": "https://localhost:8080/"
        },
        "id": "v_MwpQu4WBRq",
        "outputId": "1ed62055-a021-40c8-bb79-23321400e25a"
      },
      "source": [
        "num1=int(input(\"enter larger number:\"))\r\n",
        "num2=int(input(\"enter smaller number:\"))\r\n",
        "for i in range(1,num2+1):\r\n",
        " if(num1%i==0 and num2%i==0):\r\n",
        "  GCD=i\r\n",
        "print(GCD)"
      ],
      "execution_count": null,
      "outputs": [
        {
          "output_type": "stream",
          "text": [
            "enter larger number:12\n",
            "enter smaller number:8\n",
            "4\n"
          ],
          "name": "stdout"
        }
      ]
    },
    {
      "cell_type": "code",
      "metadata": {
        "id": "TtzZnmxymUWL"
      },
      "source": [
        ""
      ],
      "execution_count": null,
      "outputs": []
    },
    {
      "cell_type": "code",
      "metadata": {
        "id": "a4f_bSPgl91p"
      },
      "source": [
        ""
      ],
      "execution_count": null,
      "outputs": []
    },
    {
      "cell_type": "code",
      "metadata": {
        "id": "s8d8gsvQYGgy",
        "colab": {
          "base_uri": "https://localhost:8080/"
        },
        "outputId": "380131d9-7ad5-4853-a5c8-66b794f63084"
      },
      "source": [
        "num=int(input(\"enter the face number:\"))\r\n",
        "if(num<=0):\r\n",
        "  print(\"the number is not in range (1,6)\")\r\n",
        "elif(num>=7):\r\n",
        "  print(\"the number is not in range\")\r\n",
        "else:\r\n",
        "    print(\"the no is  in range (1,6)\")\r\n",
        "    print(\"the opposite face of dice is:\",7-num)\r\n"
      ],
      "execution_count": null,
      "outputs": [
        {
          "output_type": "stream",
          "text": [
            "enter the face number:7\n",
            "the number is not in range\n"
          ],
          "name": "stdout"
        }
      ]
    },
    {
      "cell_type": "code",
      "metadata": {
        "id": "WmIzhVueqx2N",
        "colab": {
          "base_uri": "https://localhost:8080/"
        },
        "outputId": "c5874a9b-e9d6-4942-d08f-dc2fc934b3db"
      },
      "source": [
        "sum=0\r\n",
        "marks=[70,80,90,50,95,50]\r\n",
        "for mark in marks:\r\n",
        "  sum=sum+mark\r\n",
        "print(\"sum:\",sum)\r\n",
        "average=sum/6\r\n",
        "print(\"average:\",average)\r\n",
        "\r\n",
        "  "
      ],
      "execution_count": null,
      "outputs": [
        {
          "output_type": "stream",
          "text": [
            "sum: 435\n",
            "average: 72.5\n"
          ],
          "name": "stdout"
        }
      ]
    },
    {
      "cell_type": "code",
      "metadata": {
        "colab": {
          "base_uri": "https://localhost:8080/"
        },
        "id": "hUaTxdew4Ev0",
        "outputId": "67da7e8a-d9a2-48d0-9090-204da9ee30b0"
      },
      "source": [
        "num1=2000\r\n",
        "num2=3200\r\n",
        "for i in range(num1,num2+1):\r\n",
        " if(i%7==0 and i%5!=0):\r\n",
        "   print(i)\r\n",
        "   \r\n",
        "\r\n",
        "\r\n",
        "   \r\n"
      ],
      "execution_count": null,
      "outputs": [
        {
          "output_type": "stream",
          "text": [
            "2002\n",
            "2009\n",
            "2016\n",
            "2023\n",
            "2037\n",
            "2044\n",
            "2051\n",
            "2058\n",
            "2072\n",
            "2079\n",
            "2086\n",
            "2093\n",
            "2107\n",
            "2114\n",
            "2121\n",
            "2128\n",
            "2142\n",
            "2149\n",
            "2156\n",
            "2163\n",
            "2177\n",
            "2184\n",
            "2191\n",
            "2198\n",
            "2212\n",
            "2219\n",
            "2226\n",
            "2233\n",
            "2247\n",
            "2254\n",
            "2261\n",
            "2268\n",
            "2282\n",
            "2289\n",
            "2296\n",
            "2303\n",
            "2317\n",
            "2324\n",
            "2331\n",
            "2338\n",
            "2352\n",
            "2359\n",
            "2366\n",
            "2373\n",
            "2387\n",
            "2394\n",
            "2401\n",
            "2408\n",
            "2422\n",
            "2429\n",
            "2436\n",
            "2443\n",
            "2457\n",
            "2464\n",
            "2471\n",
            "2478\n",
            "2492\n",
            "2499\n",
            "2506\n",
            "2513\n",
            "2527\n",
            "2534\n",
            "2541\n",
            "2548\n",
            "2562\n",
            "2569\n",
            "2576\n",
            "2583\n",
            "2597\n",
            "2604\n",
            "2611\n",
            "2618\n",
            "2632\n",
            "2639\n",
            "2646\n",
            "2653\n",
            "2667\n",
            "2674\n",
            "2681\n",
            "2688\n",
            "2702\n",
            "2709\n",
            "2716\n",
            "2723\n",
            "2737\n",
            "2744\n",
            "2751\n",
            "2758\n",
            "2772\n",
            "2779\n",
            "2786\n",
            "2793\n",
            "2807\n",
            "2814\n",
            "2821\n",
            "2828\n",
            "2842\n",
            "2849\n",
            "2856\n",
            "2863\n",
            "2877\n",
            "2884\n",
            "2891\n",
            "2898\n",
            "2912\n",
            "2919\n",
            "2926\n",
            "2933\n",
            "2947\n",
            "2954\n",
            "2961\n",
            "2968\n",
            "2982\n",
            "2989\n",
            "2996\n",
            "3003\n",
            "3017\n",
            "3024\n",
            "3031\n",
            "3038\n",
            "3052\n",
            "3059\n",
            "3066\n",
            "3073\n",
            "3087\n",
            "3094\n",
            "3101\n",
            "3108\n",
            "3122\n",
            "3129\n",
            "3136\n",
            "3143\n",
            "3157\n",
            "3164\n",
            "3171\n",
            "3178\n",
            "3192\n",
            "3199\n"
          ],
          "name": "stdout"
        }
      ]
    },
    {
      "cell_type": "code",
      "metadata": {
        "colab": {
          "base_uri": "https://localhost:8080/"
        },
        "id": "U7VjBlBWGv1T",
        "outputId": "2bea4975-f068-4e50-f6df-9baeaa3f2435"
      },
      "source": [
        "for i in range(20,106):\r\n",
        "  if(i%7==0 and i%5!=0):\r\n",
        "    print(i)\r\n"
      ],
      "execution_count": null,
      "outputs": [
        {
          "output_type": "stream",
          "text": [
            "21\n",
            "28\n",
            "42\n",
            "49\n",
            "56\n",
            "63\n",
            "77\n",
            "84\n",
            "91\n",
            "98\n"
          ],
          "name": "stdout"
        }
      ]
    }
  ]
}