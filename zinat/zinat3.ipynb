{
  "nbformat": 4,
  "nbformat_minor": 0,
  "metadata": {
    "colab": {
      "name": "zinat3.ipynb",
      "provenance": [],
      "collapsed_sections": []
    },
    "kernelspec": {
      "name": "python3",
      "display_name": "Python 3"
    }
  },
  "cells": [
    {
      "cell_type": "code",
      "metadata": {
        "colab": {
          "base_uri": "https://localhost:8080/"
        },
        "id": "I-_PJj2RzQvB",
        "outputId": "92acdec5-472b-49d7-87e8-cf15de6eb372"
      },
      "source": [
        "print(\"program for area of circle\")\r\n",
        "r=int(input(\"enter value for radius:\"))\r\n",
        "area=3.14*r*r\r\n",
        "print(area)"
      ],
      "execution_count": null,
      "outputs": [
        {
          "output_type": "stream",
          "text": [
            "program for area of circle\n",
            "enter value for radius:2\n",
            "12.56\n"
          ],
          "name": "stdout"
        }
      ]
    },
    {
      "cell_type": "code",
      "metadata": {
        "id": "QrlB0zbS1r6U"
      },
      "source": [
        "print(\"program to find square_root\")\r\n",
        "num=int(input(\"enter number:\"))\r\n",
        "s= num **(1/2)\r\n",
        "print(\"square_root:\",s)"
      ],
      "execution_count": null,
      "outputs": []
    },
    {
      "cell_type": "code",
      "metadata": {
        "id": "ZRWA20Lo5JQ4"
      },
      "source": [
        "print(\"program to swap two variable\")\r\n",
        "var1=10\r\n",
        "var2=5\r\n",
        "temp=var1\r\n",
        "var1=var2\r\n",
        "var2=temp\r\n",
        "\r\n",
        "print(\"var1 after swapping:\",var1)\r\n",
        "print(\"var2 after swapping:\",var2)"
      ],
      "execution_count": null,
      "outputs": []
    },
    {
      "cell_type": "code",
      "metadata": {
        "colab": {
          "base_uri": "https://localhost:8080/"
        },
        "id": "Pdrx3xg17Lhf",
        "outputId": "e774a629-e823-427b-a65d-9b89305b5ae2"
      },
      "source": [
        "num=int(input(\"enter the number\"))\r\n",
        "if(num==0):\r\n",
        " print(\"zero:\")\r\n",
        "elif(num>0):\r\n",
        "  print(\"positive:\")\r\n",
        "elif(num<0):\r\n",
        "  print(\"negative:\")  "
      ],
      "execution_count": null,
      "outputs": [
        {
          "output_type": "stream",
          "text": [
            "enter the number2\n",
            "positive:\n"
          ],
          "name": "stdout"
        }
      ]
    }
  ]
}