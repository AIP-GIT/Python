{
  "nbformat": 4,
  "nbformat_minor": 0,
  "metadata": {
    "colab": {
      "name": "assi3.ipynb",
      "provenance": [],
      "collapsed_sections": []
    },
    "kernelspec": {
      "name": "python3",
      "display_name": "Python 3"
    }
  },
  "cells": [
    {
      "cell_type": "markdown",
      "metadata": {
        "id": "THtgOpIU6L25"
      },
      "source": [
        "complex no"
      ]
    },
    {
      "cell_type": "code",
      "metadata": {
        "colab": {
          "base_uri": "https://localhost:8080/"
        },
        "id": "7E5Ypcm158-D",
        "outputId": "72dfaf8b-cd5d-448a-f007-891a2a13560a"
      },
      "source": [
        "c1 = 10 + 1.5j\r\n",
        "c2 = 11 + 2.5j\r\n",
        "print('Addition of two complex number =', c1 + c2)\r\n",
        "print('Subtraction of two complex number =', c1 - c2)\r\n",
        "print('Multiplication of two complex number =', c1 * c2)\r\n",
        "print('Divide of two complex number =', c1 / c2)"
      ],
      "execution_count": 1,
      "outputs": [
        {
          "output_type": "stream",
          "text": [
            "Addition of two complex number = (21+4j)\n",
            "Subtraction of two complex number = (-1-1j)\n",
            "Multiplication of two complex number = (106.25+41.5j)\n",
            "Divide of two complex number = (0.893909626719057-0.06679764243614929j)\n"
          ],
          "name": "stdout"
        }
      ]
    },
    {
      "cell_type": "markdown",
      "metadata": {
        "id": "xKrgykUG6Hrp"
      },
      "source": [
        "maximum no"
      ]
    },
    {
      "cell_type": "code",
      "metadata": {
        "colab": {
          "base_uri": "https://localhost:8080/"
        },
        "id": "UqIQf95260jK",
        "outputId": "3091d3de-afa9-4827-e493-54292d50a380"
      },
      "source": [
        "a= int (input('enter a :'))\r\n",
        "b= int (input('enter b :'))\r\n",
        "c=int (input('enter c :'))\r\n",
        "maximum = max(a, b, c) \r\n",
        "print(maximum)"
      ],
      "execution_count": 4,
      "outputs": [
        {
          "output_type": "stream",
          "text": [
            "enter a :20\n",
            "enter b :45\n",
            "enter c :10\n",
            "45\n"
          ],
          "name": "stdout"
        }
      ]
    },
    {
      "cell_type": "markdown",
      "metadata": {
        "id": "xtXYWUB77FmR"
      },
      "source": [
        "minimum no"
      ]
    },
    {
      "cell_type": "code",
      "metadata": {
        "colab": {
          "base_uri": "https://localhost:8080/"
        },
        "id": "lCH-Uy8_78SC",
        "outputId": "cc9db359-f94d-4d5a-e905-931ebad08157"
      },
      "source": [
        "a= int (input('enter a :'))\r\n",
        "b= int (input('enter b :'))\r\n",
        "c=int (input('enter c :'))\r\n",
        "minimum = min(a, b, c) \r\n",
        "print(minimum)"
      ],
      "execution_count": 7,
      "outputs": [
        {
          "output_type": "stream",
          "text": [
            "enter a :20\n",
            "enter b :45\n",
            "enter c :11\n",
            "11\n"
          ],
          "name": "stdout"
        }
      ]
    },
    {
      "cell_type": "markdown",
      "metadata": {
        "id": "j9xnpZNQ8aqQ"
      },
      "source": [
        "sum of no"
      ]
    },
    {
      "cell_type": "code",
      "metadata": {
        "colab": {
          "base_uri": "https://localhost:8080/"
        },
        "id": "nv0MOkH58rJS",
        "outputId": "10f721af-3c11-4556-86d4-ade49b66d4bf"
      },
      "source": [
        "x= int (input('enter x :'))\r\n",
        "y= int (input('enter y :'))\r\n",
        "print('sum=', x + y)"
      ],
      "execution_count": 8,
      "outputs": [
        {
          "output_type": "stream",
          "text": [
            "enter x :200\n",
            "enter y :420\n",
            "sum= 620\n"
          ],
          "name": "stdout"
        }
      ]
    },
    {
      "cell_type": "markdown",
      "metadata": {
        "id": "bTEpXr8L-Kox"
      },
      "source": [
        "increasing order"
      ]
    },
    {
      "cell_type": "code",
      "metadata": {
        "colab": {
          "base_uri": "https://localhost:8080/"
        },
        "id": "6LvEmqzZ-bTT",
        "outputId": "c727d46b-4169-48b9-e19f-ca49fc6a4a0b"
      },
      "source": [
        "num = [45, 33, 47, 10, 51, 41, 26, 89, 47, 10]\r\n",
        "num.sort()\r\n",
        "print(num)"
      ],
      "execution_count": 1,
      "outputs": [
        {
          "output_type": "stream",
          "text": [
            "[10, 10, 26, 33, 41, 45, 47, 47, 51, 89]\n"
          ],
          "name": "stdout"
        }
      ]
    },
    {
      "cell_type": "markdown",
      "metadata": {
        "id": "Zwo04ae8w1Zs"
      },
      "source": [
        "area of circle"
      ]
    },
    {
      "cell_type": "code",
      "metadata": {
        "colab": {
          "base_uri": "https://localhost:8080/"
        },
        "id": "Ozo5A50rxu5Q",
        "outputId": "eb68413a-7439-4e6e-b4b8-762126e5ddd6"
      },
      "source": [
        "r = float(input('enter the redius ='))\r\n",
        "pi = 3.14\r\n",
        "area = pi * r * r\r\n",
        "print(area)"
      ],
      "execution_count": 5,
      "outputs": [
        {
          "output_type": "stream",
          "text": [
            "enter the redius =2\n",
            "12.56\n"
          ],
          "name": "stdout"
        }
      ]
    },
    {
      "cell_type": "markdown",
      "metadata": {
        "id": "tfPgz7w81JY3"
      },
      "source": [
        "square root"
      ]
    },
    {
      "cell_type": "code",
      "metadata": {
        "colab": {
          "base_uri": "https://localhost:8080/"
        },
        "id": "kLjNeS4y3S7U",
        "outputId": "38ea9351-bd00-4024-bedf-fc8145328a71"
      },
      "source": [
        "num = int(input('enter no ='))\r\n",
        "sqrt = num ** 0.5\r\n",
        "print(\"square root:\", sqrt)"
      ],
      "execution_count": 9,
      "outputs": [
        {
          "output_type": "stream",
          "text": [
            "enter no =25\n",
            "square root: 5.0\n"
          ],
          "name": "stdout"
        }
      ]
    },
    {
      "cell_type": "markdown",
      "metadata": {
        "id": "8dYMZUd15cLT"
      },
      "source": [
        "swap two variables"
      ]
    },
    {
      "cell_type": "code",
      "metadata": {
        "colab": {
          "base_uri": "https://localhost:8080/"
        },
        "id": "ri8vp1mg57KJ",
        "outputId": "2fc8a687-e429-434b-b69d-5b7dc42a1050"
      },
      "source": [
        "x = int(input('enter the x ='))\r\n",
        "y = int(input('enter the y ='))\r\n",
        "x, y = y, x\r\n",
        "print(\"x =\", x)\r\n",
        "print(\"y =\", y)"
      ],
      "execution_count": 12,
      "outputs": [
        {
          "output_type": "stream",
          "text": [
            "enter the x =22\n",
            "enter the y =24\n",
            "x = 24\n",
            "y = 22\n"
          ],
          "name": "stdout"
        }
      ]
    },
    {
      "cell_type": "markdown",
      "metadata": {
        "id": "txq6ZFRA8Zw8"
      },
      "source": [
        "number is positive or negitive"
      ]
    },
    {
      "cell_type": "code",
      "metadata": {
        "colab": {
          "base_uri": "https://localhost:8080/"
        },
        "id": "VzqA9zea9oJ7",
        "outputId": "c0000e1f-45b2-4ec2-b974-4b435d115d38"
      },
      "source": [
        "a = int(input('enter the no ='))\r\n",
        "if (a>0):\r\n",
        "  print('positive')\r\n",
        "elif (a==0):\r\n",
        "    print('zero')\r\n",
        "else:\r\n",
        "      print('negative')"
      ],
      "execution_count": 20,
      "outputs": [
        {
          "output_type": "stream",
          "text": [
            "enter the no =23\n",
            "positive\n"
          ],
          "name": "stdout"
        }
      ]
    },
    {
      "cell_type": "markdown",
      "metadata": {
        "id": "iwoCmTRMDyeS"
      },
      "source": [
        "product of two integer value"
      ]
    },
    {
      "cell_type": "code",
      "metadata": {
        "colab": {
          "base_uri": "https://localhost:8080/"
        },
        "id": "c5P388Q3ERt7",
        "outputId": "37671d2b-0346-4724-80d9-94a0f5f0cd15"
      },
      "source": [
        "x =int (input('enter the value of x ='))\r\n",
        "y =int (input('enter the value of y ='))\r\n",
        "product = x * y\r\n",
        "if (product < 1000):\r\n",
        "  print('product',product)\r\n",
        "else:\r\n",
        "  print('sum',x+y)"
      ],
      "execution_count": 11,
      "outputs": [
        {
          "output_type": "stream",
          "text": [
            "enter the value of x =1000\n",
            "enter the value of y =2\n",
            "sum 1002\n"
          ],
          "name": "stdout"
        }
      ]
    },
    {
      "cell_type": "markdown",
      "metadata": {
        "id": "0pi7InmcvkIW"
      },
      "source": [
        "number in range"
      ]
    },
    {
      "cell_type": "code",
      "metadata": {
        "colab": {
          "base_uri": "https://localhost:8080/"
        },
        "id": "bdEW6voyxFSD",
        "outputId": "a4416f21-ae15-431f-979f-56a08809a6af"
      },
      "source": [
        "lower = int(input(\"Enter lower bound of range: \"))\r\n",
        "upper = int(input(\"Enter upper bound of range: \"))\r\n",
        "sum = 0\r\n",
        "for i in range(lower, upper + 1):\r\n",
        "  sum = sum + i\r\n",
        "  i = i + 1\r\n",
        "print(\"Sum is \", sum)"
      ],
      "execution_count": 1,
      "outputs": [
        {
          "output_type": "stream",
          "text": [
            "Enter lower bound of range: 0\n",
            "Enter upper bound of range: 10\n",
            "Sum is  55\n"
          ],
          "name": "stdout"
        }
      ]
    },
    {
      "cell_type": "markdown",
      "metadata": {
        "id": "KNQ3fbW98dhI"
      },
      "source": [
        "even index no"
      ]
    },
    {
      "cell_type": "code",
      "metadata": {
        "colab": {
          "base_uri": "https://localhost:8080/"
        },
        "id": "Tu-ZmYTF8rXK",
        "outputId": "bacc4a9a-4bfc-434f-d51a-65000bbea8da"
      },
      "source": [
        "def printEveIndexChar(str):\r\n",
        "  for i in range(0, len(str)-1, 2):\r\n",
        "    print(\"index[\",i,\"]\", str[i] )\r\n",
        "\r\n",
        "inputStr = \"pynative\" \r\n",
        "print(\"Orginal String is \", inputStr)\r\n",
        "\r\n",
        "print(\"Printing only even index chars\")\r\n",
        "printEveIndexChar(inputStr)"
      ],
      "execution_count": 1,
      "outputs": [
        {
          "output_type": "stream",
          "text": [
            "Orginal String is  pynative\n",
            "Printing only even index chars\n",
            "index[ 0 ] p\n",
            "index[ 2 ] n\n",
            "index[ 4 ] t\n",
            "index[ 6 ] v\n"
          ],
          "name": "stdout"
        }
      ]
    },
    {
      "cell_type": "markdown",
      "metadata": {
        "id": "JAcwCfC7-wH4"
      },
      "source": [
        " return a new string"
      ]
    },
    {
      "cell_type": "code",
      "metadata": {
        "colab": {
          "base_uri": "https://localhost:8080/"
        },
        "id": "gK0j6R4IlTnp",
        "outputId": "2dfbf928-a100-4c23-fd56-68dc32da3b29"
      },
      "source": [
        "def removeChars(str, n):\r\n",
        "  return str[n:]\r\n",
        "\r\n",
        "print(\"Removing n number of chars\")\r\n",
        "print(removeChars(\"pynative\", 4))"
      ],
      "execution_count": 4,
      "outputs": [
        {
          "output_type": "stream",
          "text": [
            "Removing n number of chars\n",
            "tive\n"
          ],
          "name": "stdout"
        }
      ]
    },
    {
      "cell_type": "markdown",
      "metadata": {
        "id": "lpY8QJw_lUY4"
      },
      "source": [
        " return True if first and last number of a list is same"
      ]
    },
    {
      "cell_type": "code",
      "metadata": {
        "colab": {
          "base_uri": "https://localhost:8080/"
        },
        "id": "-3osDiLOmJme",
        "outputId": "11edef22-3b17-4de4-f732-08862312f8c9"
      },
      "source": [
        "def isFirst_And_Last_Same(numberList):\r\n",
        "    print(\"Given list is \", numberList)\r\n",
        "    firstElement = numberList[0]\r\n",
        "    lastElement = numberList[-1]\r\n",
        "    if (firstElement == lastElement):\r\n",
        "        return True\r\n",
        "    else:\r\n",
        "        return False\r\n",
        "\r\n",
        "numList = [10, 20, 30, 40, 10]\r\n",
        "print(\"result is\", isFirst_And_Last_Same(numList))"
      ],
      "execution_count": 5,
      "outputs": [
        {
          "output_type": "stream",
          "text": [
            "Given list is  [10, 20, 30, 40, 10]\n",
            "result is True\n"
          ],
          "name": "stdout"
        }
      ]
    },
    {
      "cell_type": "markdown",
      "metadata": {
        "id": "_FniQeYsmY0I"
      },
      "source": [
        " divisible of 5"
      ]
    },
    {
      "cell_type": "code",
      "metadata": {
        "colab": {
          "base_uri": "https://localhost:8080/"
        },
        "id": "bCPH0pajmp33",
        "outputId": "a66136fb-7390-4df8-9486-1866eecd3950"
      },
      "source": [
        "def findDivisible(numberList):\r\n",
        "    print(\"Given list is \", numberList)\r\n",
        "    print(\"Divisible of 5 in a list\")\r\n",
        "    for num in numberList:\r\n",
        "        if (num % 5 == 0):\r\n",
        "            print(num)\r\n",
        "\r\n",
        "numList = [10, 40, 22, 27, 55, 75, 100]\r\n",
        "findDivisible(numList)"
      ],
      "execution_count": 7,
      "outputs": [
        {
          "output_type": "stream",
          "text": [
            "Given list is  [10, 40, 22, 27, 55, 75, 100]\n",
            "Divisible of 5 in a list\n",
            "10\n",
            "40\n",
            "55\n",
            "75\n",
            "100\n"
          ],
          "name": "stdout"
        }
      ]
    },
    {
      "cell_type": "markdown",
      "metadata": {
        "id": "ZPvp0O-AnFkp"
      },
      "source": [
        " the total count of sub-string “Emma” appears in the given string"
      ]
    },
    {
      "cell_type": "code",
      "metadata": {
        "colab": {
          "base_uri": "https://localhost:8080/"
        },
        "id": "XIWy4O_InZVF",
        "outputId": "fe06371b-8b0a-4a9d-f554-db952e418968"
      },
      "source": [
        "sampleStr = \"Emma is good developer. Emma is a writer\"\r\n",
        "cnt = sampleStr.count(\"Emma\")\r\n",
        "print(cnt)"
      ],
      "execution_count": 8,
      "outputs": [
        {
          "output_type": "stream",
          "text": [
            "2\n"
          ],
          "name": "stdout"
        }
      ]
    },
    {
      "cell_type": "markdown",
      "metadata": {
        "id": "n0pZXd04nf4l"
      },
      "source": [
        "print pattern"
      ]
    },
    {
      "cell_type": "code",
      "metadata": {
        "colab": {
          "base_uri": "https://localhost:8080/"
        },
        "id": "pP6zozqKnxqe",
        "outputId": "e3d96320-0ba6-41f8-fedd-8eb31fe661c7"
      },
      "source": [
        "for num in range(10):\r\n",
        "    for i in range(num):\r\n",
        "        print (num, end=\" \")\r\n",
        "    print(\"\\n\")"
      ],
      "execution_count": 9,
      "outputs": [
        {
          "output_type": "stream",
          "text": [
            "\n",
            "\n",
            "1 \n",
            "\n",
            "2 2 \n",
            "\n",
            "3 3 3 \n",
            "\n",
            "4 4 4 4 \n",
            "\n",
            "5 5 5 5 5 \n",
            "\n",
            "6 6 6 6 6 6 \n",
            "\n",
            "7 7 7 7 7 7 7 \n",
            "\n",
            "8 8 8 8 8 8 8 8 \n",
            "\n",
            "9 9 9 9 9 9 9 9 9 \n",
            "\n"
          ],
          "name": "stdout"
        }
      ]
    },
    {
      "cell_type": "markdown",
      "metadata": {
        "id": "YyMi2SUroCS3"
      },
      "source": [
        "Reverse number"
      ]
    },
    {
      "cell_type": "code",
      "metadata": {
        "colab": {
          "base_uri": "https://localhost:8080/"
        },
        "id": "c539UQn0v2JJ",
        "outputId": "adfe85c6-019d-461f-968b-4cefdb23f076"
      },
      "source": [
        "def reverseCheck(number):\r\n",
        "    print(\"original number\", number)\r\n",
        "    originalNum = number\r\n",
        "    reverseNum = 0\r\n",
        "    while (number > 0):\r\n",
        "        reminder = number % 10\r\n",
        "        reverseNum = (reverseNum * 10) + reminder\r\n",
        "        number = number // 10\r\n",
        "    if (originalNum == reverseNum):\r\n",
        "        return True\r\n",
        "    else:\r\n",
        "        return False\r\n",
        "\r\n",
        "print(\"The original and reverse number is the same:\", reverseCheck(121))"
      ],
      "execution_count": 21,
      "outputs": [
        {
          "output_type": "stream",
          "text": [
            "original number 121\n",
            "The original and reverse number is the same: True\n"
          ],
          "name": "stdout"
        }
      ]
    },
    {
      "cell_type": "markdown",
      "metadata": {
        "id": "rQvRDT2dwLER"
      },
      "source": [
        "even and odd list"
      ]
    },
    {
      "cell_type": "code",
      "metadata": {
        "colab": {
          "base_uri": "https://localhost:8080/"
        },
        "id": "qio6jYZLwcfp",
        "outputId": "dfefcd15-5816-4540-919e-c1aa3a2fed35"
      },
      "source": [
        "def mergeList(listOne, listTwo):\r\n",
        "    print(\"First List \", listOne)\r\n",
        "    print(\"Second List \", listTwo)\r\n",
        "    thirdList = []\r\n",
        "    \r\n",
        "    for num in listOne:\r\n",
        "        if (num % 2 != 0):\r\n",
        "            thirdList.append(num)\r\n",
        "    for num in listTwo:\r\n",
        "        if (num % 2 == 0):\r\n",
        "            thirdList.append(num)\r\n",
        "    return thirdList\r\n",
        "\r\n",
        "listOne = [23, 11, 17]\r\n",
        "listTwo = [26, 44, 12]\r\n",
        "\r\n",
        "print(\"result List is\", mergeList(listOne, listTwo))"
      ],
      "execution_count": 26,
      "outputs": [
        {
          "output_type": "stream",
          "text": [
            "First List  [23, 11, 17]\n",
            "Second List  [26, 44, 12]\n",
            "result List is [23, 11, 17, 26, 44, 12]\n"
          ],
          "name": "stdout"
        }
      ]
    },
    {
      "cell_type": "markdown",
      "metadata": {
        "id": "48Ovt4rex-go"
      },
      "source": [
        "reverse order"
      ]
    },
    {
      "cell_type": "code",
      "metadata": {
        "colab": {
          "base_uri": "https://localhost:8080/"
        },
        "id": "fqlQDWTFyZ36",
        "outputId": "56845349-a5c7-4887-9506-090dbcf752f8"
      },
      "source": [
        "number = 54321\r\n",
        "print(\"Given number\", number)\r\n",
        "while (number > 0):\r\n",
        "    digit = number % 10\r\n",
        "    \r\n",
        "    number = number // 10\r\n",
        "    print(digit, end=\" \")"
      ],
      "execution_count": 27,
      "outputs": [
        {
          "output_type": "stream",
          "text": [
            "Given number 54321\n",
            "1 2 3 4 5 "
          ],
          "name": "stdout"
        }
      ]
    },
    {
      "cell_type": "markdown",
      "metadata": {
        "id": "Ob96DyZRyvUQ"
      },
      "source": [
        "Leap year"
      ]
    },
    {
      "cell_type": "code",
      "metadata": {
        "colab": {
          "base_uri": "https://localhost:8080/"
        },
        "id": "snSGxwp1zbls",
        "outputId": "3f14bba0-ab00-46bb-c086-b1096a1abcad"
      },
      "source": [
        "year = int(input(\"Enter Year: \"))\r\n",
        "\r\n",
        "if year % 4 == 0 and year % 100 != 0:\r\n",
        "    print(\"Leap Year\", year)\r\n",
        "elif year % 100 == 0:\r\n",
        "    print(\"not a Leap Year\", year)\r\n",
        "elif year % 400 ==0:\r\n",
        "    print(\"Leap Year\", year)\r\n",
        "else:\r\n",
        "    print(\"not a Leap Year\", year)"
      ],
      "execution_count": 35,
      "outputs": [
        {
          "output_type": "stream",
          "text": [
            "Enter Year: 1994\n",
            "not a Leap Year 1994\n"
          ],
          "name": "stdout"
        }
      ]
    },
    {
      "cell_type": "markdown",
      "metadata": {
        "id": "RQArliqP2TIw"
      },
      "source": [
        "even odd number"
      ]
    },
    {
      "cell_type": "code",
      "metadata": {
        "colab": {
          "base_uri": "https://localhost:8080/"
        },
        "id": "-EgKPjMt2gXX",
        "outputId": "fc7d12b5-81b8-4875-ac00-fe71ffb641d2"
      },
      "source": [
        "num = int(input('enter the number'))\r\n",
        "if ((num %2) ==0):\r\n",
        "  print('number is even')\r\n",
        "else:\r\n",
        "    print('number is odd')"
      ],
      "execution_count": 38,
      "outputs": [
        {
          "output_type": "stream",
          "text": [
            "enter the number22\n",
            "number is even\n"
          ],
          "name": "stdout"
        }
      ]
    },
    {
      "cell_type": "markdown",
      "metadata": {
        "id": "ESyTslzJ4VYe"
      },
      "source": [
        "without using max function"
      ]
    },
    {
      "cell_type": "code",
      "metadata": {
        "colab": {
          "base_uri": "https://localhost:8080/"
        },
        "id": "kt_53zMn5szL",
        "outputId": "7eec855a-d4bb-42e2-c7fa-0ed85c057619"
      },
      "source": [
        "list1 = [10, 20, 4, 45, 25] \r\n",
        "list1.sort() \r\n",
        "  \r\n",
        "print(\"Largest element is:\", list1[-1]) "
      ],
      "execution_count": 39,
      "outputs": [
        {
          "output_type": "stream",
          "text": [
            "Largest element is: 45\n"
          ],
          "name": "stdout"
        }
      ]
    },
    {
      "cell_type": "markdown",
      "metadata": {
        "id": "h32c9UMi58dE"
      },
      "source": [
        "find subsring"
      ]
    },
    {
      "cell_type": "code",
      "metadata": {
        "colab": {
          "base_uri": "https://localhost:8080/"
        },
        "id": "cfW-U7NA7Lcp",
        "outputId": "fe748239-9e9c-4c09-b0c3-54e435761f3b"
      },
      "source": [
        "mystring = \"Meet Guru99 Tutorials Site.Best site for Python Tutorials!\"\r\n",
        "print(\"The position of Tutorials is at:\", mystring.find(\"Tutorials\"))"
      ],
      "execution_count": 43,
      "outputs": [
        {
          "output_type": "stream",
          "text": [
            "The position of Tutorials is at: 12\n"
          ],
          "name": "stdout"
        }
      ]
    }
  ]
}